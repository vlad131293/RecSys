{
  "nbformat": 4,
  "nbformat_minor": 0,
  "metadata": {
    "colab": {
      "provenance": []
    },
    "kernelspec": {
      "name": "python3",
      "display_name": "Python 3"
    },
    "language_info": {
      "name": "python"
    },
    "widgets": {
      "application/vnd.jupyter.widget-state+json": {
        "e5149b91c04e4e9db925bc9df5fb91e9": {
          "model_module": "@jupyter-widgets/controls",
          "model_name": "HBoxModel",
          "model_module_version": "1.5.0",
          "state": {
            "_dom_classes": [],
            "_model_module": "@jupyter-widgets/controls",
            "_model_module_version": "1.5.0",
            "_model_name": "HBoxModel",
            "_view_count": null,
            "_view_module": "@jupyter-widgets/controls",
            "_view_module_version": "1.5.0",
            "_view_name": "HBoxView",
            "box_style": "",
            "children": [
              "IPY_MODEL_7c0e05483a4a42efa8b994900d849dbe",
              "IPY_MODEL_e6b4966465434d2ba68d26681fdb9cd0",
              "IPY_MODEL_fd1a3a90b5e8482ca4c303932dc9e06a"
            ],
            "layout": "IPY_MODEL_44ccae6b27fd43669feb243674a66bd5"
          }
        },
        "7c0e05483a4a42efa8b994900d849dbe": {
          "model_module": "@jupyter-widgets/controls",
          "model_name": "HTMLModel",
          "model_module_version": "1.5.0",
          "state": {
            "_dom_classes": [],
            "_model_module": "@jupyter-widgets/controls",
            "_model_module_version": "1.5.0",
            "_model_name": "HTMLModel",
            "_view_count": null,
            "_view_module": "@jupyter-widgets/controls",
            "_view_module_version": "1.5.0",
            "_view_name": "HTMLView",
            "description": "",
            "description_tooltip": null,
            "layout": "IPY_MODEL_4a3b5dccd72f48b1aeb8b8fb4c270b28",
            "placeholder": "​",
            "style": "IPY_MODEL_f2edb8d88d9640238a64da11842d8476",
            "value": "100%"
          }
        },
        "e6b4966465434d2ba68d26681fdb9cd0": {
          "model_module": "@jupyter-widgets/controls",
          "model_name": "FloatProgressModel",
          "model_module_version": "1.5.0",
          "state": {
            "_dom_classes": [],
            "_model_module": "@jupyter-widgets/controls",
            "_model_module_version": "1.5.0",
            "_model_name": "FloatProgressModel",
            "_view_count": null,
            "_view_module": "@jupyter-widgets/controls",
            "_view_module_version": "1.5.0",
            "_view_name": "ProgressView",
            "bar_style": "success",
            "description": "",
            "description_tooltip": null,
            "layout": "IPY_MODEL_d3c45525870f44e3a24f7edbf897bda3",
            "max": 100,
            "min": 0,
            "orientation": "horizontal",
            "style": "IPY_MODEL_7a27f4409b7b469fb991ea0db6a64aed",
            "value": 100
          }
        },
        "fd1a3a90b5e8482ca4c303932dc9e06a": {
          "model_module": "@jupyter-widgets/controls",
          "model_name": "HTMLModel",
          "model_module_version": "1.5.0",
          "state": {
            "_dom_classes": [],
            "_model_module": "@jupyter-widgets/controls",
            "_model_module_version": "1.5.0",
            "_model_name": "HTMLModel",
            "_view_count": null,
            "_view_module": "@jupyter-widgets/controls",
            "_view_module_version": "1.5.0",
            "_view_name": "HTMLView",
            "description": "",
            "description_tooltip": null,
            "layout": "IPY_MODEL_8148e4bc75414183bcd31973f70bbf4b",
            "placeholder": "​",
            "style": "IPY_MODEL_6d4e9ca9465344e2bf6dd7d8bb909082",
            "value": " 100/100 [00:37&lt;00:00,  3.05it/s]"
          }
        },
        "44ccae6b27fd43669feb243674a66bd5": {
          "model_module": "@jupyter-widgets/base",
          "model_name": "LayoutModel",
          "model_module_version": "1.2.0",
          "state": {
            "_model_module": "@jupyter-widgets/base",
            "_model_module_version": "1.2.0",
            "_model_name": "LayoutModel",
            "_view_count": null,
            "_view_module": "@jupyter-widgets/base",
            "_view_module_version": "1.2.0",
            "_view_name": "LayoutView",
            "align_content": null,
            "align_items": null,
            "align_self": null,
            "border": null,
            "bottom": null,
            "display": null,
            "flex": null,
            "flex_flow": null,
            "grid_area": null,
            "grid_auto_columns": null,
            "grid_auto_flow": null,
            "grid_auto_rows": null,
            "grid_column": null,
            "grid_gap": null,
            "grid_row": null,
            "grid_template_areas": null,
            "grid_template_columns": null,
            "grid_template_rows": null,
            "height": null,
            "justify_content": null,
            "justify_items": null,
            "left": null,
            "margin": null,
            "max_height": null,
            "max_width": null,
            "min_height": null,
            "min_width": null,
            "object_fit": null,
            "object_position": null,
            "order": null,
            "overflow": null,
            "overflow_x": null,
            "overflow_y": null,
            "padding": null,
            "right": null,
            "top": null,
            "visibility": null,
            "width": null
          }
        },
        "4a3b5dccd72f48b1aeb8b8fb4c270b28": {
          "model_module": "@jupyter-widgets/base",
          "model_name": "LayoutModel",
          "model_module_version": "1.2.0",
          "state": {
            "_model_module": "@jupyter-widgets/base",
            "_model_module_version": "1.2.0",
            "_model_name": "LayoutModel",
            "_view_count": null,
            "_view_module": "@jupyter-widgets/base",
            "_view_module_version": "1.2.0",
            "_view_name": "LayoutView",
            "align_content": null,
            "align_items": null,
            "align_self": null,
            "border": null,
            "bottom": null,
            "display": null,
            "flex": null,
            "flex_flow": null,
            "grid_area": null,
            "grid_auto_columns": null,
            "grid_auto_flow": null,
            "grid_auto_rows": null,
            "grid_column": null,
            "grid_gap": null,
            "grid_row": null,
            "grid_template_areas": null,
            "grid_template_columns": null,
            "grid_template_rows": null,
            "height": null,
            "justify_content": null,
            "justify_items": null,
            "left": null,
            "margin": null,
            "max_height": null,
            "max_width": null,
            "min_height": null,
            "min_width": null,
            "object_fit": null,
            "object_position": null,
            "order": null,
            "overflow": null,
            "overflow_x": null,
            "overflow_y": null,
            "padding": null,
            "right": null,
            "top": null,
            "visibility": null,
            "width": null
          }
        },
        "f2edb8d88d9640238a64da11842d8476": {
          "model_module": "@jupyter-widgets/controls",
          "model_name": "DescriptionStyleModel",
          "model_module_version": "1.5.0",
          "state": {
            "_model_module": "@jupyter-widgets/controls",
            "_model_module_version": "1.5.0",
            "_model_name": "DescriptionStyleModel",
            "_view_count": null,
            "_view_module": "@jupyter-widgets/base",
            "_view_module_version": "1.2.0",
            "_view_name": "StyleView",
            "description_width": ""
          }
        },
        "d3c45525870f44e3a24f7edbf897bda3": {
          "model_module": "@jupyter-widgets/base",
          "model_name": "LayoutModel",
          "model_module_version": "1.2.0",
          "state": {
            "_model_module": "@jupyter-widgets/base",
            "_model_module_version": "1.2.0",
            "_model_name": "LayoutModel",
            "_view_count": null,
            "_view_module": "@jupyter-widgets/base",
            "_view_module_version": "1.2.0",
            "_view_name": "LayoutView",
            "align_content": null,
            "align_items": null,
            "align_self": null,
            "border": null,
            "bottom": null,
            "display": null,
            "flex": null,
            "flex_flow": null,
            "grid_area": null,
            "grid_auto_columns": null,
            "grid_auto_flow": null,
            "grid_auto_rows": null,
            "grid_column": null,
            "grid_gap": null,
            "grid_row": null,
            "grid_template_areas": null,
            "grid_template_columns": null,
            "grid_template_rows": null,
            "height": null,
            "justify_content": null,
            "justify_items": null,
            "left": null,
            "margin": null,
            "max_height": null,
            "max_width": null,
            "min_height": null,
            "min_width": null,
            "object_fit": null,
            "object_position": null,
            "order": null,
            "overflow": null,
            "overflow_x": null,
            "overflow_y": null,
            "padding": null,
            "right": null,
            "top": null,
            "visibility": null,
            "width": null
          }
        },
        "7a27f4409b7b469fb991ea0db6a64aed": {
          "model_module": "@jupyter-widgets/controls",
          "model_name": "ProgressStyleModel",
          "model_module_version": "1.5.0",
          "state": {
            "_model_module": "@jupyter-widgets/controls",
            "_model_module_version": "1.5.0",
            "_model_name": "ProgressStyleModel",
            "_view_count": null,
            "_view_module": "@jupyter-widgets/base",
            "_view_module_version": "1.2.0",
            "_view_name": "StyleView",
            "bar_color": null,
            "description_width": ""
          }
        },
        "8148e4bc75414183bcd31973f70bbf4b": {
          "model_module": "@jupyter-widgets/base",
          "model_name": "LayoutModel",
          "model_module_version": "1.2.0",
          "state": {
            "_model_module": "@jupyter-widgets/base",
            "_model_module_version": "1.2.0",
            "_model_name": "LayoutModel",
            "_view_count": null,
            "_view_module": "@jupyter-widgets/base",
            "_view_module_version": "1.2.0",
            "_view_name": "LayoutView",
            "align_content": null,
            "align_items": null,
            "align_self": null,
            "border": null,
            "bottom": null,
            "display": null,
            "flex": null,
            "flex_flow": null,
            "grid_area": null,
            "grid_auto_columns": null,
            "grid_auto_flow": null,
            "grid_auto_rows": null,
            "grid_column": null,
            "grid_gap": null,
            "grid_row": null,
            "grid_template_areas": null,
            "grid_template_columns": null,
            "grid_template_rows": null,
            "height": null,
            "justify_content": null,
            "justify_items": null,
            "left": null,
            "margin": null,
            "max_height": null,
            "max_width": null,
            "min_height": null,
            "min_width": null,
            "object_fit": null,
            "object_position": null,
            "order": null,
            "overflow": null,
            "overflow_x": null,
            "overflow_y": null,
            "padding": null,
            "right": null,
            "top": null,
            "visibility": null,
            "width": null
          }
        },
        "6d4e9ca9465344e2bf6dd7d8bb909082": {
          "model_module": "@jupyter-widgets/controls",
          "model_name": "DescriptionStyleModel",
          "model_module_version": "1.5.0",
          "state": {
            "_model_module": "@jupyter-widgets/controls",
            "_model_module_version": "1.5.0",
            "_model_name": "DescriptionStyleModel",
            "_view_count": null,
            "_view_module": "@jupyter-widgets/base",
            "_view_module_version": "1.2.0",
            "_view_name": "StyleView",
            "description_width": ""
          }
        },
        "aea04c2e17a8479bb5578e0a098e734b": {
          "model_module": "@jupyter-widgets/controls",
          "model_name": "HBoxModel",
          "model_module_version": "1.5.0",
          "state": {
            "_dom_classes": [],
            "_model_module": "@jupyter-widgets/controls",
            "_model_module_version": "1.5.0",
            "_model_name": "HBoxModel",
            "_view_count": null,
            "_view_module": "@jupyter-widgets/controls",
            "_view_module_version": "1.5.0",
            "_view_name": "HBoxView",
            "box_style": "",
            "children": [
              "IPY_MODEL_6368190706b2440290817f8cfaefb0c3",
              "IPY_MODEL_237a5ee94ef64dcc8c9961390de795e4",
              "IPY_MODEL_99aa6e7dab8f4259b938b8083b50269d"
            ],
            "layout": "IPY_MODEL_0470fde799a44a84b5c445dd49dd5930"
          }
        },
        "6368190706b2440290817f8cfaefb0c3": {
          "model_module": "@jupyter-widgets/controls",
          "model_name": "HTMLModel",
          "model_module_version": "1.5.0",
          "state": {
            "_dom_classes": [],
            "_model_module": "@jupyter-widgets/controls",
            "_model_module_version": "1.5.0",
            "_model_name": "HTMLModel",
            "_view_count": null,
            "_view_module": "@jupyter-widgets/controls",
            "_view_module_version": "1.5.0",
            "_view_name": "HTMLView",
            "description": "",
            "description_tooltip": null,
            "layout": "IPY_MODEL_cea7b9e7c8ca4ea9862c3fc936b4b0e5",
            "placeholder": "​",
            "style": "IPY_MODEL_e5ebed657ab94b299fa9bee3d9624550",
            "value": "100%"
          }
        },
        "237a5ee94ef64dcc8c9961390de795e4": {
          "model_module": "@jupyter-widgets/controls",
          "model_name": "FloatProgressModel",
          "model_module_version": "1.5.0",
          "state": {
            "_dom_classes": [],
            "_model_module": "@jupyter-widgets/controls",
            "_model_module_version": "1.5.0",
            "_model_name": "FloatProgressModel",
            "_view_count": null,
            "_view_module": "@jupyter-widgets/controls",
            "_view_module_version": "1.5.0",
            "_view_name": "ProgressView",
            "bar_style": "success",
            "description": "",
            "description_tooltip": null,
            "layout": "IPY_MODEL_c6cff8d1acf349e3a07b9ad90a74df19",
            "max": 10,
            "min": 0,
            "orientation": "horizontal",
            "style": "IPY_MODEL_d639e887aedf485fac9a6d8cf0c8dc18",
            "value": 10
          }
        },
        "99aa6e7dab8f4259b938b8083b50269d": {
          "model_module": "@jupyter-widgets/controls",
          "model_name": "HTMLModel",
          "model_module_version": "1.5.0",
          "state": {
            "_dom_classes": [],
            "_model_module": "@jupyter-widgets/controls",
            "_model_module_version": "1.5.0",
            "_model_name": "HTMLModel",
            "_view_count": null,
            "_view_module": "@jupyter-widgets/controls",
            "_view_module_version": "1.5.0",
            "_view_name": "HTMLView",
            "description": "",
            "description_tooltip": null,
            "layout": "IPY_MODEL_c258577710064747a0b7298b2226ec86",
            "placeholder": "​",
            "style": "IPY_MODEL_7e3dcaace30140ed89430a7a79b039a9",
            "value": " 10/10 [06:36&lt;00:00, 41.60s/it]"
          }
        },
        "0470fde799a44a84b5c445dd49dd5930": {
          "model_module": "@jupyter-widgets/base",
          "model_name": "LayoutModel",
          "model_module_version": "1.2.0",
          "state": {
            "_model_module": "@jupyter-widgets/base",
            "_model_module_version": "1.2.0",
            "_model_name": "LayoutModel",
            "_view_count": null,
            "_view_module": "@jupyter-widgets/base",
            "_view_module_version": "1.2.0",
            "_view_name": "LayoutView",
            "align_content": null,
            "align_items": null,
            "align_self": null,
            "border": null,
            "bottom": null,
            "display": null,
            "flex": null,
            "flex_flow": null,
            "grid_area": null,
            "grid_auto_columns": null,
            "grid_auto_flow": null,
            "grid_auto_rows": null,
            "grid_column": null,
            "grid_gap": null,
            "grid_row": null,
            "grid_template_areas": null,
            "grid_template_columns": null,
            "grid_template_rows": null,
            "height": null,
            "justify_content": null,
            "justify_items": null,
            "left": null,
            "margin": null,
            "max_height": null,
            "max_width": null,
            "min_height": null,
            "min_width": null,
            "object_fit": null,
            "object_position": null,
            "order": null,
            "overflow": null,
            "overflow_x": null,
            "overflow_y": null,
            "padding": null,
            "right": null,
            "top": null,
            "visibility": null,
            "width": null
          }
        },
        "cea7b9e7c8ca4ea9862c3fc936b4b0e5": {
          "model_module": "@jupyter-widgets/base",
          "model_name": "LayoutModel",
          "model_module_version": "1.2.0",
          "state": {
            "_model_module": "@jupyter-widgets/base",
            "_model_module_version": "1.2.0",
            "_model_name": "LayoutModel",
            "_view_count": null,
            "_view_module": "@jupyter-widgets/base",
            "_view_module_version": "1.2.0",
            "_view_name": "LayoutView",
            "align_content": null,
            "align_items": null,
            "align_self": null,
            "border": null,
            "bottom": null,
            "display": null,
            "flex": null,
            "flex_flow": null,
            "grid_area": null,
            "grid_auto_columns": null,
            "grid_auto_flow": null,
            "grid_auto_rows": null,
            "grid_column": null,
            "grid_gap": null,
            "grid_row": null,
            "grid_template_areas": null,
            "grid_template_columns": null,
            "grid_template_rows": null,
            "height": null,
            "justify_content": null,
            "justify_items": null,
            "left": null,
            "margin": null,
            "max_height": null,
            "max_width": null,
            "min_height": null,
            "min_width": null,
            "object_fit": null,
            "object_position": null,
            "order": null,
            "overflow": null,
            "overflow_x": null,
            "overflow_y": null,
            "padding": null,
            "right": null,
            "top": null,
            "visibility": null,
            "width": null
          }
        },
        "e5ebed657ab94b299fa9bee3d9624550": {
          "model_module": "@jupyter-widgets/controls",
          "model_name": "DescriptionStyleModel",
          "model_module_version": "1.5.0",
          "state": {
            "_model_module": "@jupyter-widgets/controls",
            "_model_module_version": "1.5.0",
            "_model_name": "DescriptionStyleModel",
            "_view_count": null,
            "_view_module": "@jupyter-widgets/base",
            "_view_module_version": "1.2.0",
            "_view_name": "StyleView",
            "description_width": ""
          }
        },
        "c6cff8d1acf349e3a07b9ad90a74df19": {
          "model_module": "@jupyter-widgets/base",
          "model_name": "LayoutModel",
          "model_module_version": "1.2.0",
          "state": {
            "_model_module": "@jupyter-widgets/base",
            "_model_module_version": "1.2.0",
            "_model_name": "LayoutModel",
            "_view_count": null,
            "_view_module": "@jupyter-widgets/base",
            "_view_module_version": "1.2.0",
            "_view_name": "LayoutView",
            "align_content": null,
            "align_items": null,
            "align_self": null,
            "border": null,
            "bottom": null,
            "display": null,
            "flex": null,
            "flex_flow": null,
            "grid_area": null,
            "grid_auto_columns": null,
            "grid_auto_flow": null,
            "grid_auto_rows": null,
            "grid_column": null,
            "grid_gap": null,
            "grid_row": null,
            "grid_template_areas": null,
            "grid_template_columns": null,
            "grid_template_rows": null,
            "height": null,
            "justify_content": null,
            "justify_items": null,
            "left": null,
            "margin": null,
            "max_height": null,
            "max_width": null,
            "min_height": null,
            "min_width": null,
            "object_fit": null,
            "object_position": null,
            "order": null,
            "overflow": null,
            "overflow_x": null,
            "overflow_y": null,
            "padding": null,
            "right": null,
            "top": null,
            "visibility": null,
            "width": null
          }
        },
        "d639e887aedf485fac9a6d8cf0c8dc18": {
          "model_module": "@jupyter-widgets/controls",
          "model_name": "ProgressStyleModel",
          "model_module_version": "1.5.0",
          "state": {
            "_model_module": "@jupyter-widgets/controls",
            "_model_module_version": "1.5.0",
            "_model_name": "ProgressStyleModel",
            "_view_count": null,
            "_view_module": "@jupyter-widgets/base",
            "_view_module_version": "1.2.0",
            "_view_name": "StyleView",
            "bar_color": null,
            "description_width": ""
          }
        },
        "c258577710064747a0b7298b2226ec86": {
          "model_module": "@jupyter-widgets/base",
          "model_name": "LayoutModel",
          "model_module_version": "1.2.0",
          "state": {
            "_model_module": "@jupyter-widgets/base",
            "_model_module_version": "1.2.0",
            "_model_name": "LayoutModel",
            "_view_count": null,
            "_view_module": "@jupyter-widgets/base",
            "_view_module_version": "1.2.0",
            "_view_name": "LayoutView",
            "align_content": null,
            "align_items": null,
            "align_self": null,
            "border": null,
            "bottom": null,
            "display": null,
            "flex": null,
            "flex_flow": null,
            "grid_area": null,
            "grid_auto_columns": null,
            "grid_auto_flow": null,
            "grid_auto_rows": null,
            "grid_column": null,
            "grid_gap": null,
            "grid_row": null,
            "grid_template_areas": null,
            "grid_template_columns": null,
            "grid_template_rows": null,
            "height": null,
            "justify_content": null,
            "justify_items": null,
            "left": null,
            "margin": null,
            "max_height": null,
            "max_width": null,
            "min_height": null,
            "min_width": null,
            "object_fit": null,
            "object_position": null,
            "order": null,
            "overflow": null,
            "overflow_x": null,
            "overflow_y": null,
            "padding": null,
            "right": null,
            "top": null,
            "visibility": null,
            "width": null
          }
        },
        "7e3dcaace30140ed89430a7a79b039a9": {
          "model_module": "@jupyter-widgets/controls",
          "model_name": "DescriptionStyleModel",
          "model_module_version": "1.5.0",
          "state": {
            "_model_module": "@jupyter-widgets/controls",
            "_model_module_version": "1.5.0",
            "_model_name": "DescriptionStyleModel",
            "_view_count": null,
            "_view_module": "@jupyter-widgets/base",
            "_view_module_version": "1.2.0",
            "_view_name": "StyleView",
            "description_width": ""
          }
        }
      }
    }
  },
  "cells": [
    {
      "cell_type": "code",
      "source": [
        "! pip install --upgrade git+https://github.com/evfro/polara.git@develop#egg=polara\n",
        "! pip install lightfm"
      ],
      "metadata": {
        "id": "WPAD7vOXk-QD"
      },
      "execution_count": null,
      "outputs": []
    },
    {
      "cell_type": "code",
      "source": [
        "! wget https://raw.githubusercontent.com/Personalization-Technologies-Lab/RecSys-Course-HSE-Fall23/main/Seminar6/evaluation.py -O evaluation.py\n",
        "! wget https://raw.githubusercontent.com/Personalization-Technologies-Lab/RecSys-Course-HSE-Fall23/main/Seminar4/dataprep.py -O dataprep.py\n",
        "! wget https://raw.githubusercontent.com/Personalization-Technologies-Lab/RecSys-Course-HSE-Fall23/main/Seminar4/evaluation.py -O evaluation_knn.py"
      ],
      "metadata": {
        "id": "q-4OLEPpk-Nm"
      },
      "execution_count": null,
      "outputs": []
    },
    {
      "cell_type": "code",
      "source": [
        "from collections import defaultdict\n",
        "from datetime import datetime\n",
        "\n",
        "import numpy as np\n",
        "import pandas as pd\n",
        "from scipy.sparse import csr_matrix, vstack\n",
        "from pprint import pprint\n",
        "\n",
        "from lightfm import LightFM\n",
        "from lightfm.data import Dataset\n",
        "from lightfm.datasets import fetch_stackexchange\n",
        "from tqdm.auto import tqdm\n",
        "import matplotlib.pyplot as plt\n",
        "\n",
        "from polara.evaluation.pipelines import random_grid\n",
        "from polara.recommender.data import RecommenderData\n",
        "from polara.lib.earlystopping import early_stopping_callback\n",
        "from polara.tools.display import print_frames\n",
        "from polara.preprocessing.dataframes import matrix_from_observations\n",
        "\n",
        "from lfm import build_lfm_model, encode_virus_features\n",
        "\n",
        "from dataprep import leave_last_out, transform_indices, reindex_data, verify_time_split, generate_interactions_matrix, to_numeric_id\n",
        "from evaluation import topn_recommendations, model_evaluate, downvote_seen_items"
      ],
      "metadata": {
        "id": "ioJeuzwXk-LQ"
      },
      "execution_count": null,
      "outputs": []
    },
    {
      "cell_type": "markdown",
      "source": [
        "# 1. Загрузка данных"
      ],
      "metadata": {
        "id": "FhBpfE0LW2Bh"
      }
    },
    {
      "cell_type": "code",
      "source": [
        "review_data = pd.read_csv('drive/MyDrive/recsys_data/reviews.csv').sort_values('user_id')\n",
        "review_data.head(2)"
      ],
      "metadata": {
        "colab": {
          "base_uri": "https://localhost:8080/",
          "height": 112
        },
        "id": "F4k66K8elV5c",
        "outputId": "3d7da61e-3653-4461-948f-1b0a2d4b6aa5"
      },
      "execution_count": null,
      "outputs": [
        {
          "output_type": "execute_result",
          "data": {
            "text/plain": [
              "          uid           user_id  anime_id  \\\n",
              "96828  210287  -----noname-----     18441   \n",
              "14062  221727  -----noname-----      2025   \n",
              "\n",
              "                                                    text  score  \\\n",
              "96828  Giant cliffhanger at the end of the season. Th...      2   \n",
              "14062  I did not like this anime and I ended up dropp...      4   \n",
              "\n",
              "                                                  scores  \\\n",
              "96828  {'Overall': '2', 'Story': '1', 'Animation': '6...   \n",
              "14062  {'Overall': '4', 'Story': '6', 'Animation': '3...   \n",
              "\n",
              "                                                link  \n",
              "96828  https://myanimelist.net/reviews.php?id=210287  \n",
              "14062  https://myanimelist.net/reviews.php?id=221727  "
            ],
            "text/html": [
              "\n",
              "  <div id=\"df-b854842b-2251-4060-bd0d-898e3aabe50d\" class=\"colab-df-container\">\n",
              "    <div>\n",
              "<style scoped>\n",
              "    .dataframe tbody tr th:only-of-type {\n",
              "        vertical-align: middle;\n",
              "    }\n",
              "\n",
              "    .dataframe tbody tr th {\n",
              "        vertical-align: top;\n",
              "    }\n",
              "\n",
              "    .dataframe thead th {\n",
              "        text-align: right;\n",
              "    }\n",
              "</style>\n",
              "<table border=\"1\" class=\"dataframe\">\n",
              "  <thead>\n",
              "    <tr style=\"text-align: right;\">\n",
              "      <th></th>\n",
              "      <th>uid</th>\n",
              "      <th>user_id</th>\n",
              "      <th>anime_id</th>\n",
              "      <th>text</th>\n",
              "      <th>score</th>\n",
              "      <th>scores</th>\n",
              "      <th>link</th>\n",
              "    </tr>\n",
              "  </thead>\n",
              "  <tbody>\n",
              "    <tr>\n",
              "      <th>96828</th>\n",
              "      <td>210287</td>\n",
              "      <td>-----noname-----</td>\n",
              "      <td>18441</td>\n",
              "      <td>Giant cliffhanger at the end of the season. Th...</td>\n",
              "      <td>2</td>\n",
              "      <td>{'Overall': '2', 'Story': '1', 'Animation': '6...</td>\n",
              "      <td>https://myanimelist.net/reviews.php?id=210287</td>\n",
              "    </tr>\n",
              "    <tr>\n",
              "      <th>14062</th>\n",
              "      <td>221727</td>\n",
              "      <td>-----noname-----</td>\n",
              "      <td>2025</td>\n",
              "      <td>I did not like this anime and I ended up dropp...</td>\n",
              "      <td>4</td>\n",
              "      <td>{'Overall': '4', 'Story': '6', 'Animation': '3...</td>\n",
              "      <td>https://myanimelist.net/reviews.php?id=221727</td>\n",
              "    </tr>\n",
              "  </tbody>\n",
              "</table>\n",
              "</div>\n",
              "    <div class=\"colab-df-buttons\">\n",
              "\n",
              "  <div class=\"colab-df-container\">\n",
              "    <button class=\"colab-df-convert\" onclick=\"convertToInteractive('df-b854842b-2251-4060-bd0d-898e3aabe50d')\"\n",
              "            title=\"Convert this dataframe to an interactive table.\"\n",
              "            style=\"display:none;\">\n",
              "\n",
              "  <svg xmlns=\"http://www.w3.org/2000/svg\" height=\"24px\" viewBox=\"0 -960 960 960\">\n",
              "    <path d=\"M120-120v-720h720v720H120Zm60-500h600v-160H180v160Zm220 220h160v-160H400v160Zm0 220h160v-160H400v160ZM180-400h160v-160H180v160Zm440 0h160v-160H620v160ZM180-180h160v-160H180v160Zm440 0h160v-160H620v160Z\"/>\n",
              "  </svg>\n",
              "    </button>\n",
              "\n",
              "  <style>\n",
              "    .colab-df-container {\n",
              "      display:flex;\n",
              "      gap: 12px;\n",
              "    }\n",
              "\n",
              "    .colab-df-convert {\n",
              "      background-color: #E8F0FE;\n",
              "      border: none;\n",
              "      border-radius: 50%;\n",
              "      cursor: pointer;\n",
              "      display: none;\n",
              "      fill: #1967D2;\n",
              "      height: 32px;\n",
              "      padding: 0 0 0 0;\n",
              "      width: 32px;\n",
              "    }\n",
              "\n",
              "    .colab-df-convert:hover {\n",
              "      background-color: #E2EBFA;\n",
              "      box-shadow: 0px 1px 2px rgba(60, 64, 67, 0.3), 0px 1px 3px 1px rgba(60, 64, 67, 0.15);\n",
              "      fill: #174EA6;\n",
              "    }\n",
              "\n",
              "    .colab-df-buttons div {\n",
              "      margin-bottom: 4px;\n",
              "    }\n",
              "\n",
              "    [theme=dark] .colab-df-convert {\n",
              "      background-color: #3B4455;\n",
              "      fill: #D2E3FC;\n",
              "    }\n",
              "\n",
              "    [theme=dark] .colab-df-convert:hover {\n",
              "      background-color: #434B5C;\n",
              "      box-shadow: 0px 1px 3px 1px rgba(0, 0, 0, 0.15);\n",
              "      filter: drop-shadow(0px 1px 2px rgba(0, 0, 0, 0.3));\n",
              "      fill: #FFFFFF;\n",
              "    }\n",
              "  </style>\n",
              "\n",
              "    <script>\n",
              "      const buttonEl =\n",
              "        document.querySelector('#df-b854842b-2251-4060-bd0d-898e3aabe50d button.colab-df-convert');\n",
              "      buttonEl.style.display =\n",
              "        google.colab.kernel.accessAllowed ? 'block' : 'none';\n",
              "\n",
              "      async function convertToInteractive(key) {\n",
              "        const element = document.querySelector('#df-b854842b-2251-4060-bd0d-898e3aabe50d');\n",
              "        const dataTable =\n",
              "          await google.colab.kernel.invokeFunction('convertToInteractive',\n",
              "                                                    [key], {});\n",
              "        if (!dataTable) return;\n",
              "\n",
              "        const docLinkHtml = 'Like what you see? Visit the ' +\n",
              "          '<a target=\"_blank\" href=https://colab.research.google.com/notebooks/data_table.ipynb>data table notebook</a>'\n",
              "          + ' to learn more about interactive tables.';\n",
              "        element.innerHTML = '';\n",
              "        dataTable['output_type'] = 'display_data';\n",
              "        await google.colab.output.renderOutput(dataTable, element);\n",
              "        const docLink = document.createElement('div');\n",
              "        docLink.innerHTML = docLinkHtml;\n",
              "        element.appendChild(docLink);\n",
              "      }\n",
              "    </script>\n",
              "  </div>\n",
              "\n",
              "\n",
              "<div id=\"df-3321ea01-4ea3-4fb5-bf3e-051366e31ed7\">\n",
              "  <button class=\"colab-df-quickchart\" onclick=\"quickchart('df-3321ea01-4ea3-4fb5-bf3e-051366e31ed7')\"\n",
              "            title=\"Suggest charts\"\n",
              "            style=\"display:none;\">\n",
              "\n",
              "<svg xmlns=\"http://www.w3.org/2000/svg\" height=\"24px\"viewBox=\"0 0 24 24\"\n",
              "     width=\"24px\">\n",
              "    <g>\n",
              "        <path d=\"M19 3H5c-1.1 0-2 .9-2 2v14c0 1.1.9 2 2 2h14c1.1 0 2-.9 2-2V5c0-1.1-.9-2-2-2zM9 17H7v-7h2v7zm4 0h-2V7h2v10zm4 0h-2v-4h2v4z\"/>\n",
              "    </g>\n",
              "</svg>\n",
              "  </button>\n",
              "\n",
              "<style>\n",
              "  .colab-df-quickchart {\n",
              "      --bg-color: #E8F0FE;\n",
              "      --fill-color: #1967D2;\n",
              "      --hover-bg-color: #E2EBFA;\n",
              "      --hover-fill-color: #174EA6;\n",
              "      --disabled-fill-color: #AAA;\n",
              "      --disabled-bg-color: #DDD;\n",
              "  }\n",
              "\n",
              "  [theme=dark] .colab-df-quickchart {\n",
              "      --bg-color: #3B4455;\n",
              "      --fill-color: #D2E3FC;\n",
              "      --hover-bg-color: #434B5C;\n",
              "      --hover-fill-color: #FFFFFF;\n",
              "      --disabled-bg-color: #3B4455;\n",
              "      --disabled-fill-color: #666;\n",
              "  }\n",
              "\n",
              "  .colab-df-quickchart {\n",
              "    background-color: var(--bg-color);\n",
              "    border: none;\n",
              "    border-radius: 50%;\n",
              "    cursor: pointer;\n",
              "    display: none;\n",
              "    fill: var(--fill-color);\n",
              "    height: 32px;\n",
              "    padding: 0;\n",
              "    width: 32px;\n",
              "  }\n",
              "\n",
              "  .colab-df-quickchart:hover {\n",
              "    background-color: var(--hover-bg-color);\n",
              "    box-shadow: 0 1px 2px rgba(60, 64, 67, 0.3), 0 1px 3px 1px rgba(60, 64, 67, 0.15);\n",
              "    fill: var(--button-hover-fill-color);\n",
              "  }\n",
              "\n",
              "  .colab-df-quickchart-complete:disabled,\n",
              "  .colab-df-quickchart-complete:disabled:hover {\n",
              "    background-color: var(--disabled-bg-color);\n",
              "    fill: var(--disabled-fill-color);\n",
              "    box-shadow: none;\n",
              "  }\n",
              "\n",
              "  .colab-df-spinner {\n",
              "    border: 2px solid var(--fill-color);\n",
              "    border-color: transparent;\n",
              "    border-bottom-color: var(--fill-color);\n",
              "    animation:\n",
              "      spin 1s steps(1) infinite;\n",
              "  }\n",
              "\n",
              "  @keyframes spin {\n",
              "    0% {\n",
              "      border-color: transparent;\n",
              "      border-bottom-color: var(--fill-color);\n",
              "      border-left-color: var(--fill-color);\n",
              "    }\n",
              "    20% {\n",
              "      border-color: transparent;\n",
              "      border-left-color: var(--fill-color);\n",
              "      border-top-color: var(--fill-color);\n",
              "    }\n",
              "    30% {\n",
              "      border-color: transparent;\n",
              "      border-left-color: var(--fill-color);\n",
              "      border-top-color: var(--fill-color);\n",
              "      border-right-color: var(--fill-color);\n",
              "    }\n",
              "    40% {\n",
              "      border-color: transparent;\n",
              "      border-right-color: var(--fill-color);\n",
              "      border-top-color: var(--fill-color);\n",
              "    }\n",
              "    60% {\n",
              "      border-color: transparent;\n",
              "      border-right-color: var(--fill-color);\n",
              "    }\n",
              "    80% {\n",
              "      border-color: transparent;\n",
              "      border-right-color: var(--fill-color);\n",
              "      border-bottom-color: var(--fill-color);\n",
              "    }\n",
              "    90% {\n",
              "      border-color: transparent;\n",
              "      border-bottom-color: var(--fill-color);\n",
              "    }\n",
              "  }\n",
              "</style>\n",
              "\n",
              "  <script>\n",
              "    async function quickchart(key) {\n",
              "      const quickchartButtonEl =\n",
              "        document.querySelector('#' + key + ' button');\n",
              "      quickchartButtonEl.disabled = true;  // To prevent multiple clicks.\n",
              "      quickchartButtonEl.classList.add('colab-df-spinner');\n",
              "      try {\n",
              "        const charts = await google.colab.kernel.invokeFunction(\n",
              "            'suggestCharts', [key], {});\n",
              "      } catch (error) {\n",
              "        console.error('Error during call to suggestCharts:', error);\n",
              "      }\n",
              "      quickchartButtonEl.classList.remove('colab-df-spinner');\n",
              "      quickchartButtonEl.classList.add('colab-df-quickchart-complete');\n",
              "    }\n",
              "    (() => {\n",
              "      let quickchartButtonEl =\n",
              "        document.querySelector('#df-3321ea01-4ea3-4fb5-bf3e-051366e31ed7 button');\n",
              "      quickchartButtonEl.style.display =\n",
              "        google.colab.kernel.accessAllowed ? 'block' : 'none';\n",
              "    })();\n",
              "  </script>\n",
              "</div>\n",
              "    </div>\n",
              "  </div>\n"
            ]
          },
          "metadata": {},
          "execution_count": 8
        }
      ]
    },
    {
      "cell_type": "code",
      "source": [
        "anime_data = pd.read_csv('drive/MyDrive/recsys_data/animes.csv')\n",
        "anime_data.head(2)"
      ],
      "metadata": {
        "colab": {
          "base_uri": "https://localhost:8080/",
          "height": 303
        },
        "id": "fwwPl3OdlV3D",
        "outputId": "6e8eb7bb-0370-4ba9-9f14-2c8193d22b4e"
      },
      "execution_count": null,
      "outputs": [
        {
          "output_type": "execute_result",
          "data": {
            "text/plain": [
              "   anime_id                            title  \\\n",
              "0         1                     Cowboy Bebop   \n",
              "1         5  Cowboy Bebop: Tengoku no Tobira   \n",
              "\n",
              "                                            synopsis  \\\n",
              "0  In the year 2071, humanity has colonized sever...   \n",
              "1  Another day, another bounty—such is the life o...   \n",
              "\n",
              "                                             genre  \\\n",
              "0  Action, Adventure, Comedy, Drama, Sci-Fi, Space   \n",
              "1            Action, Drama, Mystery, Sci-Fi, Space   \n",
              "\n",
              "                         aired  episodes  members  popularity  ranked  score  \\\n",
              "0  Apr 3, 1998 to Apr 24, 1999        26   930311          39    26.0   8.81   \n",
              "1                  Sep 1, 2001         1   223199         475   149.0   8.40   \n",
              "\n",
              "                                             img_url  \\\n",
              "0  https://cdn.myanimelist.net/images/anime/4/196...   \n",
              "1  https://cdn.myanimelist.net/images/anime/1439/...   \n",
              "\n",
              "                                                link  \n",
              "0       https://myanimelist.net/anime/1/Cowboy_Bebop  \n",
              "1  https://myanimelist.net/anime/5/Cowboy_Bebop__...  "
            ],
            "text/html": [
              "\n",
              "  <div id=\"df-3e443e74-a2e8-4249-bf83-5116d1d15e39\" class=\"colab-df-container\">\n",
              "    <div>\n",
              "<style scoped>\n",
              "    .dataframe tbody tr th:only-of-type {\n",
              "        vertical-align: middle;\n",
              "    }\n",
              "\n",
              "    .dataframe tbody tr th {\n",
              "        vertical-align: top;\n",
              "    }\n",
              "\n",
              "    .dataframe thead th {\n",
              "        text-align: right;\n",
              "    }\n",
              "</style>\n",
              "<table border=\"1\" class=\"dataframe\">\n",
              "  <thead>\n",
              "    <tr style=\"text-align: right;\">\n",
              "      <th></th>\n",
              "      <th>anime_id</th>\n",
              "      <th>title</th>\n",
              "      <th>synopsis</th>\n",
              "      <th>genre</th>\n",
              "      <th>aired</th>\n",
              "      <th>episodes</th>\n",
              "      <th>members</th>\n",
              "      <th>popularity</th>\n",
              "      <th>ranked</th>\n",
              "      <th>score</th>\n",
              "      <th>img_url</th>\n",
              "      <th>link</th>\n",
              "    </tr>\n",
              "  </thead>\n",
              "  <tbody>\n",
              "    <tr>\n",
              "      <th>0</th>\n",
              "      <td>1</td>\n",
              "      <td>Cowboy Bebop</td>\n",
              "      <td>In the year 2071, humanity has colonized sever...</td>\n",
              "      <td>Action, Adventure, Comedy, Drama, Sci-Fi, Space</td>\n",
              "      <td>Apr 3, 1998 to Apr 24, 1999</td>\n",
              "      <td>26</td>\n",
              "      <td>930311</td>\n",
              "      <td>39</td>\n",
              "      <td>26.0</td>\n",
              "      <td>8.81</td>\n",
              "      <td>https://cdn.myanimelist.net/images/anime/4/196...</td>\n",
              "      <td>https://myanimelist.net/anime/1/Cowboy_Bebop</td>\n",
              "    </tr>\n",
              "    <tr>\n",
              "      <th>1</th>\n",
              "      <td>5</td>\n",
              "      <td>Cowboy Bebop: Tengoku no Tobira</td>\n",
              "      <td>Another day, another bounty—such is the life o...</td>\n",
              "      <td>Action, Drama, Mystery, Sci-Fi, Space</td>\n",
              "      <td>Sep 1, 2001</td>\n",
              "      <td>1</td>\n",
              "      <td>223199</td>\n",
              "      <td>475</td>\n",
              "      <td>149.0</td>\n",
              "      <td>8.40</td>\n",
              "      <td>https://cdn.myanimelist.net/images/anime/1439/...</td>\n",
              "      <td>https://myanimelist.net/anime/5/Cowboy_Bebop__...</td>\n",
              "    </tr>\n",
              "  </tbody>\n",
              "</table>\n",
              "</div>\n",
              "    <div class=\"colab-df-buttons\">\n",
              "\n",
              "  <div class=\"colab-df-container\">\n",
              "    <button class=\"colab-df-convert\" onclick=\"convertToInteractive('df-3e443e74-a2e8-4249-bf83-5116d1d15e39')\"\n",
              "            title=\"Convert this dataframe to an interactive table.\"\n",
              "            style=\"display:none;\">\n",
              "\n",
              "  <svg xmlns=\"http://www.w3.org/2000/svg\" height=\"24px\" viewBox=\"0 -960 960 960\">\n",
              "    <path d=\"M120-120v-720h720v720H120Zm60-500h600v-160H180v160Zm220 220h160v-160H400v160Zm0 220h160v-160H400v160ZM180-400h160v-160H180v160Zm440 0h160v-160H620v160ZM180-180h160v-160H180v160Zm440 0h160v-160H620v160Z\"/>\n",
              "  </svg>\n",
              "    </button>\n",
              "\n",
              "  <style>\n",
              "    .colab-df-container {\n",
              "      display:flex;\n",
              "      gap: 12px;\n",
              "    }\n",
              "\n",
              "    .colab-df-convert {\n",
              "      background-color: #E8F0FE;\n",
              "      border: none;\n",
              "      border-radius: 50%;\n",
              "      cursor: pointer;\n",
              "      display: none;\n",
              "      fill: #1967D2;\n",
              "      height: 32px;\n",
              "      padding: 0 0 0 0;\n",
              "      width: 32px;\n",
              "    }\n",
              "\n",
              "    .colab-df-convert:hover {\n",
              "      background-color: #E2EBFA;\n",
              "      box-shadow: 0px 1px 2px rgba(60, 64, 67, 0.3), 0px 1px 3px 1px rgba(60, 64, 67, 0.15);\n",
              "      fill: #174EA6;\n",
              "    }\n",
              "\n",
              "    .colab-df-buttons div {\n",
              "      margin-bottom: 4px;\n",
              "    }\n",
              "\n",
              "    [theme=dark] .colab-df-convert {\n",
              "      background-color: #3B4455;\n",
              "      fill: #D2E3FC;\n",
              "    }\n",
              "\n",
              "    [theme=dark] .colab-df-convert:hover {\n",
              "      background-color: #434B5C;\n",
              "      box-shadow: 0px 1px 3px 1px rgba(0, 0, 0, 0.15);\n",
              "      filter: drop-shadow(0px 1px 2px rgba(0, 0, 0, 0.3));\n",
              "      fill: #FFFFFF;\n",
              "    }\n",
              "  </style>\n",
              "\n",
              "    <script>\n",
              "      const buttonEl =\n",
              "        document.querySelector('#df-3e443e74-a2e8-4249-bf83-5116d1d15e39 button.colab-df-convert');\n",
              "      buttonEl.style.display =\n",
              "        google.colab.kernel.accessAllowed ? 'block' : 'none';\n",
              "\n",
              "      async function convertToInteractive(key) {\n",
              "        const element = document.querySelector('#df-3e443e74-a2e8-4249-bf83-5116d1d15e39');\n",
              "        const dataTable =\n",
              "          await google.colab.kernel.invokeFunction('convertToInteractive',\n",
              "                                                    [key], {});\n",
              "        if (!dataTable) return;\n",
              "\n",
              "        const docLinkHtml = 'Like what you see? Visit the ' +\n",
              "          '<a target=\"_blank\" href=https://colab.research.google.com/notebooks/data_table.ipynb>data table notebook</a>'\n",
              "          + ' to learn more about interactive tables.';\n",
              "        element.innerHTML = '';\n",
              "        dataTable['output_type'] = 'display_data';\n",
              "        await google.colab.output.renderOutput(dataTable, element);\n",
              "        const docLink = document.createElement('div');\n",
              "        docLink.innerHTML = docLinkHtml;\n",
              "        element.appendChild(docLink);\n",
              "      }\n",
              "    </script>\n",
              "  </div>\n",
              "\n",
              "\n",
              "<div id=\"df-246e2dfe-6eab-4c7c-9715-7df0715bc78c\">\n",
              "  <button class=\"colab-df-quickchart\" onclick=\"quickchart('df-246e2dfe-6eab-4c7c-9715-7df0715bc78c')\"\n",
              "            title=\"Suggest charts\"\n",
              "            style=\"display:none;\">\n",
              "\n",
              "<svg xmlns=\"http://www.w3.org/2000/svg\" height=\"24px\"viewBox=\"0 0 24 24\"\n",
              "     width=\"24px\">\n",
              "    <g>\n",
              "        <path d=\"M19 3H5c-1.1 0-2 .9-2 2v14c0 1.1.9 2 2 2h14c1.1 0 2-.9 2-2V5c0-1.1-.9-2-2-2zM9 17H7v-7h2v7zm4 0h-2V7h2v10zm4 0h-2v-4h2v4z\"/>\n",
              "    </g>\n",
              "</svg>\n",
              "  </button>\n",
              "\n",
              "<style>\n",
              "  .colab-df-quickchart {\n",
              "      --bg-color: #E8F0FE;\n",
              "      --fill-color: #1967D2;\n",
              "      --hover-bg-color: #E2EBFA;\n",
              "      --hover-fill-color: #174EA6;\n",
              "      --disabled-fill-color: #AAA;\n",
              "      --disabled-bg-color: #DDD;\n",
              "  }\n",
              "\n",
              "  [theme=dark] .colab-df-quickchart {\n",
              "      --bg-color: #3B4455;\n",
              "      --fill-color: #D2E3FC;\n",
              "      --hover-bg-color: #434B5C;\n",
              "      --hover-fill-color: #FFFFFF;\n",
              "      --disabled-bg-color: #3B4455;\n",
              "      --disabled-fill-color: #666;\n",
              "  }\n",
              "\n",
              "  .colab-df-quickchart {\n",
              "    background-color: var(--bg-color);\n",
              "    border: none;\n",
              "    border-radius: 50%;\n",
              "    cursor: pointer;\n",
              "    display: none;\n",
              "    fill: var(--fill-color);\n",
              "    height: 32px;\n",
              "    padding: 0;\n",
              "    width: 32px;\n",
              "  }\n",
              "\n",
              "  .colab-df-quickchart:hover {\n",
              "    background-color: var(--hover-bg-color);\n",
              "    box-shadow: 0 1px 2px rgba(60, 64, 67, 0.3), 0 1px 3px 1px rgba(60, 64, 67, 0.15);\n",
              "    fill: var(--button-hover-fill-color);\n",
              "  }\n",
              "\n",
              "  .colab-df-quickchart-complete:disabled,\n",
              "  .colab-df-quickchart-complete:disabled:hover {\n",
              "    background-color: var(--disabled-bg-color);\n",
              "    fill: var(--disabled-fill-color);\n",
              "    box-shadow: none;\n",
              "  }\n",
              "\n",
              "  .colab-df-spinner {\n",
              "    border: 2px solid var(--fill-color);\n",
              "    border-color: transparent;\n",
              "    border-bottom-color: var(--fill-color);\n",
              "    animation:\n",
              "      spin 1s steps(1) infinite;\n",
              "  }\n",
              "\n",
              "  @keyframes spin {\n",
              "    0% {\n",
              "      border-color: transparent;\n",
              "      border-bottom-color: var(--fill-color);\n",
              "      border-left-color: var(--fill-color);\n",
              "    }\n",
              "    20% {\n",
              "      border-color: transparent;\n",
              "      border-left-color: var(--fill-color);\n",
              "      border-top-color: var(--fill-color);\n",
              "    }\n",
              "    30% {\n",
              "      border-color: transparent;\n",
              "      border-left-color: var(--fill-color);\n",
              "      border-top-color: var(--fill-color);\n",
              "      border-right-color: var(--fill-color);\n",
              "    }\n",
              "    40% {\n",
              "      border-color: transparent;\n",
              "      border-right-color: var(--fill-color);\n",
              "      border-top-color: var(--fill-color);\n",
              "    }\n",
              "    60% {\n",
              "      border-color: transparent;\n",
              "      border-right-color: var(--fill-color);\n",
              "    }\n",
              "    80% {\n",
              "      border-color: transparent;\n",
              "      border-right-color: var(--fill-color);\n",
              "      border-bottom-color: var(--fill-color);\n",
              "    }\n",
              "    90% {\n",
              "      border-color: transparent;\n",
              "      border-bottom-color: var(--fill-color);\n",
              "    }\n",
              "  }\n",
              "</style>\n",
              "\n",
              "  <script>\n",
              "    async function quickchart(key) {\n",
              "      const quickchartButtonEl =\n",
              "        document.querySelector('#' + key + ' button');\n",
              "      quickchartButtonEl.disabled = true;  // To prevent multiple clicks.\n",
              "      quickchartButtonEl.classList.add('colab-df-spinner');\n",
              "      try {\n",
              "        const charts = await google.colab.kernel.invokeFunction(\n",
              "            'suggestCharts', [key], {});\n",
              "      } catch (error) {\n",
              "        console.error('Error during call to suggestCharts:', error);\n",
              "      }\n",
              "      quickchartButtonEl.classList.remove('colab-df-spinner');\n",
              "      quickchartButtonEl.classList.add('colab-df-quickchart-complete');\n",
              "    }\n",
              "    (() => {\n",
              "      let quickchartButtonEl =\n",
              "        document.querySelector('#df-246e2dfe-6eab-4c7c-9715-7df0715bc78c button');\n",
              "      quickchartButtonEl.style.display =\n",
              "        google.colab.kernel.accessAllowed ? 'block' : 'none';\n",
              "    })();\n",
              "  </script>\n",
              "</div>\n",
              "    </div>\n",
              "  </div>\n"
            ]
          },
          "metadata": {},
          "execution_count": 9
        }
      ]
    },
    {
      "cell_type": "code",
      "source": [
        "profile_data = pd.read_csv('drive/MyDrive/recsys_data/profiles.csv').sort_values('user_id')\n",
        "profile_data.head(2)"
      ],
      "metadata": {
        "colab": {
          "base_uri": "https://localhost:8080/",
          "height": 112
        },
        "id": "Rh_34MgDlV0V",
        "outputId": "591773dc-f8c4-4219-f4af-9f9c19513566"
      },
      "execution_count": null,
      "outputs": [
        {
          "output_type": "execute_result",
          "data": {
            "text/plain": [
              "                user_id gender      birthday  \\\n",
              "9140   -----noname-----    NaN  Dec 31, 2019   \n",
              "16956   ---SnowFlake---    NaN           NaN   \n",
              "\n",
              "                                 favorites_anime  \\\n",
              "9140   [21, 245, 1575, 2001, 6774, 11061, 16592]   \n",
              "16956                        [2904, 6773, 10790]   \n",
              "\n",
              "                                                   link  \n",
              "9140   https://myanimelist.net/profile/-----noname-----  \n",
              "16956   https://myanimelist.net/profile/---SnowFlake---  "
            ],
            "text/html": [
              "\n",
              "  <div id=\"df-d3942061-3feb-459d-987e-d2f4b36fb387\" class=\"colab-df-container\">\n",
              "    <div>\n",
              "<style scoped>\n",
              "    .dataframe tbody tr th:only-of-type {\n",
              "        vertical-align: middle;\n",
              "    }\n",
              "\n",
              "    .dataframe tbody tr th {\n",
              "        vertical-align: top;\n",
              "    }\n",
              "\n",
              "    .dataframe thead th {\n",
              "        text-align: right;\n",
              "    }\n",
              "</style>\n",
              "<table border=\"1\" class=\"dataframe\">\n",
              "  <thead>\n",
              "    <tr style=\"text-align: right;\">\n",
              "      <th></th>\n",
              "      <th>user_id</th>\n",
              "      <th>gender</th>\n",
              "      <th>birthday</th>\n",
              "      <th>favorites_anime</th>\n",
              "      <th>link</th>\n",
              "    </tr>\n",
              "  </thead>\n",
              "  <tbody>\n",
              "    <tr>\n",
              "      <th>9140</th>\n",
              "      <td>-----noname-----</td>\n",
              "      <td>NaN</td>\n",
              "      <td>Dec 31, 2019</td>\n",
              "      <td>[21, 245, 1575, 2001, 6774, 11061, 16592]</td>\n",
              "      <td>https://myanimelist.net/profile/-----noname-----</td>\n",
              "    </tr>\n",
              "    <tr>\n",
              "      <th>16956</th>\n",
              "      <td>---SnowFlake---</td>\n",
              "      <td>NaN</td>\n",
              "      <td>NaN</td>\n",
              "      <td>[2904, 6773, 10790]</td>\n",
              "      <td>https://myanimelist.net/profile/---SnowFlake---</td>\n",
              "    </tr>\n",
              "  </tbody>\n",
              "</table>\n",
              "</div>\n",
              "    <div class=\"colab-df-buttons\">\n",
              "\n",
              "  <div class=\"colab-df-container\">\n",
              "    <button class=\"colab-df-convert\" onclick=\"convertToInteractive('df-d3942061-3feb-459d-987e-d2f4b36fb387')\"\n",
              "            title=\"Convert this dataframe to an interactive table.\"\n",
              "            style=\"display:none;\">\n",
              "\n",
              "  <svg xmlns=\"http://www.w3.org/2000/svg\" height=\"24px\" viewBox=\"0 -960 960 960\">\n",
              "    <path d=\"M120-120v-720h720v720H120Zm60-500h600v-160H180v160Zm220 220h160v-160H400v160Zm0 220h160v-160H400v160ZM180-400h160v-160H180v160Zm440 0h160v-160H620v160ZM180-180h160v-160H180v160Zm440 0h160v-160H620v160Z\"/>\n",
              "  </svg>\n",
              "    </button>\n",
              "\n",
              "  <style>\n",
              "    .colab-df-container {\n",
              "      display:flex;\n",
              "      gap: 12px;\n",
              "    }\n",
              "\n",
              "    .colab-df-convert {\n",
              "      background-color: #E8F0FE;\n",
              "      border: none;\n",
              "      border-radius: 50%;\n",
              "      cursor: pointer;\n",
              "      display: none;\n",
              "      fill: #1967D2;\n",
              "      height: 32px;\n",
              "      padding: 0 0 0 0;\n",
              "      width: 32px;\n",
              "    }\n",
              "\n",
              "    .colab-df-convert:hover {\n",
              "      background-color: #E2EBFA;\n",
              "      box-shadow: 0px 1px 2px rgba(60, 64, 67, 0.3), 0px 1px 3px 1px rgba(60, 64, 67, 0.15);\n",
              "      fill: #174EA6;\n",
              "    }\n",
              "\n",
              "    .colab-df-buttons div {\n",
              "      margin-bottom: 4px;\n",
              "    }\n",
              "\n",
              "    [theme=dark] .colab-df-convert {\n",
              "      background-color: #3B4455;\n",
              "      fill: #D2E3FC;\n",
              "    }\n",
              "\n",
              "    [theme=dark] .colab-df-convert:hover {\n",
              "      background-color: #434B5C;\n",
              "      box-shadow: 0px 1px 3px 1px rgba(0, 0, 0, 0.15);\n",
              "      filter: drop-shadow(0px 1px 2px rgba(0, 0, 0, 0.3));\n",
              "      fill: #FFFFFF;\n",
              "    }\n",
              "  </style>\n",
              "\n",
              "    <script>\n",
              "      const buttonEl =\n",
              "        document.querySelector('#df-d3942061-3feb-459d-987e-d2f4b36fb387 button.colab-df-convert');\n",
              "      buttonEl.style.display =\n",
              "        google.colab.kernel.accessAllowed ? 'block' : 'none';\n",
              "\n",
              "      async function convertToInteractive(key) {\n",
              "        const element = document.querySelector('#df-d3942061-3feb-459d-987e-d2f4b36fb387');\n",
              "        const dataTable =\n",
              "          await google.colab.kernel.invokeFunction('convertToInteractive',\n",
              "                                                    [key], {});\n",
              "        if (!dataTable) return;\n",
              "\n",
              "        const docLinkHtml = 'Like what you see? Visit the ' +\n",
              "          '<a target=\"_blank\" href=https://colab.research.google.com/notebooks/data_table.ipynb>data table notebook</a>'\n",
              "          + ' to learn more about interactive tables.';\n",
              "        element.innerHTML = '';\n",
              "        dataTable['output_type'] = 'display_data';\n",
              "        await google.colab.output.renderOutput(dataTable, element);\n",
              "        const docLink = document.createElement('div');\n",
              "        docLink.innerHTML = docLinkHtml;\n",
              "        element.appendChild(docLink);\n",
              "      }\n",
              "    </script>\n",
              "  </div>\n",
              "\n",
              "\n",
              "<div id=\"df-dbc040e0-6b59-4628-b5f0-5106a12a966b\">\n",
              "  <button class=\"colab-df-quickchart\" onclick=\"quickchart('df-dbc040e0-6b59-4628-b5f0-5106a12a966b')\"\n",
              "            title=\"Suggest charts\"\n",
              "            style=\"display:none;\">\n",
              "\n",
              "<svg xmlns=\"http://www.w3.org/2000/svg\" height=\"24px\"viewBox=\"0 0 24 24\"\n",
              "     width=\"24px\">\n",
              "    <g>\n",
              "        <path d=\"M19 3H5c-1.1 0-2 .9-2 2v14c0 1.1.9 2 2 2h14c1.1 0 2-.9 2-2V5c0-1.1-.9-2-2-2zM9 17H7v-7h2v7zm4 0h-2V7h2v10zm4 0h-2v-4h2v4z\"/>\n",
              "    </g>\n",
              "</svg>\n",
              "  </button>\n",
              "\n",
              "<style>\n",
              "  .colab-df-quickchart {\n",
              "      --bg-color: #E8F0FE;\n",
              "      --fill-color: #1967D2;\n",
              "      --hover-bg-color: #E2EBFA;\n",
              "      --hover-fill-color: #174EA6;\n",
              "      --disabled-fill-color: #AAA;\n",
              "      --disabled-bg-color: #DDD;\n",
              "  }\n",
              "\n",
              "  [theme=dark] .colab-df-quickchart {\n",
              "      --bg-color: #3B4455;\n",
              "      --fill-color: #D2E3FC;\n",
              "      --hover-bg-color: #434B5C;\n",
              "      --hover-fill-color: #FFFFFF;\n",
              "      --disabled-bg-color: #3B4455;\n",
              "      --disabled-fill-color: #666;\n",
              "  }\n",
              "\n",
              "  .colab-df-quickchart {\n",
              "    background-color: var(--bg-color);\n",
              "    border: none;\n",
              "    border-radius: 50%;\n",
              "    cursor: pointer;\n",
              "    display: none;\n",
              "    fill: var(--fill-color);\n",
              "    height: 32px;\n",
              "    padding: 0;\n",
              "    width: 32px;\n",
              "  }\n",
              "\n",
              "  .colab-df-quickchart:hover {\n",
              "    background-color: var(--hover-bg-color);\n",
              "    box-shadow: 0 1px 2px rgba(60, 64, 67, 0.3), 0 1px 3px 1px rgba(60, 64, 67, 0.15);\n",
              "    fill: var(--button-hover-fill-color);\n",
              "  }\n",
              "\n",
              "  .colab-df-quickchart-complete:disabled,\n",
              "  .colab-df-quickchart-complete:disabled:hover {\n",
              "    background-color: var(--disabled-bg-color);\n",
              "    fill: var(--disabled-fill-color);\n",
              "    box-shadow: none;\n",
              "  }\n",
              "\n",
              "  .colab-df-spinner {\n",
              "    border: 2px solid var(--fill-color);\n",
              "    border-color: transparent;\n",
              "    border-bottom-color: var(--fill-color);\n",
              "    animation:\n",
              "      spin 1s steps(1) infinite;\n",
              "  }\n",
              "\n",
              "  @keyframes spin {\n",
              "    0% {\n",
              "      border-color: transparent;\n",
              "      border-bottom-color: var(--fill-color);\n",
              "      border-left-color: var(--fill-color);\n",
              "    }\n",
              "    20% {\n",
              "      border-color: transparent;\n",
              "      border-left-color: var(--fill-color);\n",
              "      border-top-color: var(--fill-color);\n",
              "    }\n",
              "    30% {\n",
              "      border-color: transparent;\n",
              "      border-left-color: var(--fill-color);\n",
              "      border-top-color: var(--fill-color);\n",
              "      border-right-color: var(--fill-color);\n",
              "    }\n",
              "    40% {\n",
              "      border-color: transparent;\n",
              "      border-right-color: var(--fill-color);\n",
              "      border-top-color: var(--fill-color);\n",
              "    }\n",
              "    60% {\n",
              "      border-color: transparent;\n",
              "      border-right-color: var(--fill-color);\n",
              "    }\n",
              "    80% {\n",
              "      border-color: transparent;\n",
              "      border-right-color: var(--fill-color);\n",
              "      border-bottom-color: var(--fill-color);\n",
              "    }\n",
              "    90% {\n",
              "      border-color: transparent;\n",
              "      border-bottom-color: var(--fill-color);\n",
              "    }\n",
              "  }\n",
              "</style>\n",
              "\n",
              "  <script>\n",
              "    async function quickchart(key) {\n",
              "      const quickchartButtonEl =\n",
              "        document.querySelector('#' + key + ' button');\n",
              "      quickchartButtonEl.disabled = true;  // To prevent multiple clicks.\n",
              "      quickchartButtonEl.classList.add('colab-df-spinner');\n",
              "      try {\n",
              "        const charts = await google.colab.kernel.invokeFunction(\n",
              "            'suggestCharts', [key], {});\n",
              "      } catch (error) {\n",
              "        console.error('Error during call to suggestCharts:', error);\n",
              "      }\n",
              "      quickchartButtonEl.classList.remove('colab-df-spinner');\n",
              "      quickchartButtonEl.classList.add('colab-df-quickchart-complete');\n",
              "    }\n",
              "    (() => {\n",
              "      let quickchartButtonEl =\n",
              "        document.querySelector('#df-dbc040e0-6b59-4628-b5f0-5106a12a966b button');\n",
              "      quickchartButtonEl.style.display =\n",
              "        google.colab.kernel.accessAllowed ? 'block' : 'none';\n",
              "    })();\n",
              "  </script>\n",
              "</div>\n",
              "    </div>\n",
              "  </div>\n"
            ]
          },
          "metadata": {},
          "execution_count": 10
        }
      ]
    },
    {
      "cell_type": "markdown",
      "source": [
        "## 1.2 Анализ данных"
      ],
      "metadata": {
        "id": "QhySurppn8M_"
      }
    },
    {
      "cell_type": "code",
      "source": [
        "if set(review_data.user_id.values) == set(profile_data.user_id.values):\n",
        "    print(\"Обо всех пользователях есть информация в review\")"
      ],
      "metadata": {
        "colab": {
          "base_uri": "https://localhost:8080/"
        },
        "id": "chGNPYxMXX4e",
        "outputId": "24088d15-0ac6-4331-b4c6-ef1da5044c44"
      },
      "execution_count": null,
      "outputs": [
        {
          "output_type": "stream",
          "name": "stdout",
          "text": [
            "Обо всех пользователях есть информация в review\n"
          ]
        }
      ]
    },
    {
      "cell_type": "code",
      "source": [
        "data = review_data.groupby('user_id', as_index=False).\\\n",
        "    agg(num_anime=('anime_id', len), high_scores=('score', lambda x: sum(np.array(list(x)) > 6)))[['user_id', 'num_anime', 'high_scores']]\n",
        "data[data.num_anime < np.quantile(data.num_anime, 0.99)].num_anime.hist(bins=30)"
      ],
      "metadata": {
        "colab": {
          "base_uri": "https://localhost:8080/",
          "height": 447
        },
        "id": "CL668x3cnQTs",
        "outputId": "aa4d3736-50fb-4def-cf75-67800415f337"
      },
      "execution_count": null,
      "outputs": [
        {
          "output_type": "execute_result",
          "data": {
            "text/plain": [
              "<Axes: >"
            ]
          },
          "metadata": {},
          "execution_count": 12
        },
        {
          "output_type": "display_data",
          "data": {
            "text/plain": [
              "<Figure size 640x480 with 1 Axes>"
            ],
            "image/png": "[encoded data removed]"
          },
          "metadata": {}
        }
      ]
    },
    {
      "cell_type": "markdown",
      "source": [
        "# 2. Разделение на train и test"
      ],
      "metadata": {
        "id": "gkUrp_l5o54f"
      }
    },
    {
      "cell_type": "code",
      "source": [
        "def split_random(data, userid):\n",
        "    holdout = data.sample(frac=1.).sort_values('score').drop_duplicates(\n",
        "        subset=[userid], keep='last'\n",
        "    )\n",
        "    remaining = data.drop(holdout.index)\n",
        "    return remaining, holdout"
      ],
      "metadata": {
        "id": "Hh_MLQb64OiB"
      },
      "execution_count": null,
      "outputs": []
    },
    {
      "cell_type": "code",
      "source": [
        "test_users = data[(data.num_anime > 10) & (data.high_scores > 1)].sample(500)['user_id'].values\n",
        "\n",
        "training_ = review_data[~review_data.user_id.isin(test_users)]\n",
        "testing_ = review_data[review_data.user_id.isin(test_users)]"
      ],
      "metadata": {
        "id": "svVX_JAK4NoJ"
      },
      "execution_count": null,
      "outputs": []
    },
    {
      "cell_type": "code",
      "source": [
        "data_description = dict(\n",
        "    users = 'user_id',\n",
        "    items = 'anime_id',\n",
        "    feedback = 'score',\n",
        "    n_users = training_.user_id.nunique(),\n",
        "    n_items = review_data.anime_id.nunique(),\n",
        ")\n",
        "data_description"
      ],
      "metadata": {
        "colab": {
          "base_uri": "https://localhost:8080/"
        },
        "id": "f8c1qbJ-qPCh",
        "outputId": "8031b8d2-7b6a-4328-90f0-7a861f767523"
      },
      "execution_count": null,
      "outputs": [
        {
          "output_type": "execute_result",
          "data": {
            "text/plain": [
              "{'users': 'user_id',\n",
              " 'items': 'anime_id',\n",
              " 'feedback': 'score',\n",
              " 'n_users': 36958,\n",
              " 'n_items': 7636}"
            ]
          },
          "metadata": {},
          "execution_count": 15
        }
      ]
    },
    {
      "cell_type": "code",
      "source": [
        "data_description_test = dict(\n",
        "    users = 'user_id',\n",
        "    items = 'anime_id',\n",
        "    feedback = 'score',\n",
        "    n_users = testing_.user_id.nunique(),\n",
        "    n_items = review_data.anime_id.nunique(),\n",
        ")\n",
        "data_description_test"
      ],
      "metadata": {
        "colab": {
          "base_uri": "https://localhost:8080/"
        },
        "id": "BJrbURCtqopE",
        "outputId": "8cd8af20-f134-4344-a906-6bcef9a24b7f"
      },
      "execution_count": null,
      "outputs": [
        {
          "output_type": "execute_result",
          "data": {
            "text/plain": [
              "{'users': 'user_id',\n",
              " 'items': 'anime_id',\n",
              " 'feedback': 'score',\n",
              " 'n_users': 500,\n",
              " 'n_items': 7636}"
            ]
          },
          "metadata": {},
          "execution_count": 16
        }
      ]
    },
    {
      "cell_type": "code",
      "source": [
        "testset_, holdout_ = split_random(testing_, 'user_id')\n",
        "holdout_ = holdout_.sort_values('user_id')\n",
        "testset_ = testset_.sort_values('user_id')"
      ],
      "metadata": {
        "id": "JsjyafMp4Nk8"
      },
      "execution_count": null,
      "outputs": []
    },
    {
      "cell_type": "code",
      "source": [
        "_, full_data_index = transform_indices(review_data, 'user_id', 'anime_id')\n",
        "training = reindex_data(training_, full_data_index, entities='items', filter_invalid=True).sort_values('user_id')\n",
        "\n",
        "holdout = reindex_data(holdout_, full_data_index, entities='items', filter_invalid=True).sort_values('user_id')\n",
        "testset = reindex_data(testset_, full_data_index, entities='items', filter_invalid=True).sort_values('user_id')"
      ],
      "metadata": {
        "id": "f0KoZ9r8q7hI"
      },
      "execution_count": null,
      "outputs": []
    },
    {
      "cell_type": "markdown",
      "source": [
        "## 2.1 Создание матрицы интеракций"
      ],
      "metadata": {
        "id": "2nPEPiFHrdLz"
      }
    },
    {
      "cell_type": "code",
      "source": [
        "def generate_interactions_matrix(data, data_description, rebase_users=False):\n",
        "    '''\n",
        "    Convert pandas dataframe with interactions into a sparse matrix.\n",
        "    Allows reindexing user ids, which help ensure data consistency\n",
        "    at the scoring stage (assumes user ids are sorted in scoring array).\n",
        "    '''\n",
        "    n_users = data_description['n_users']\n",
        "    n_items = data_description['n_items']\n",
        "    # get indices of observed data\n",
        "    user_idx = data[data_description['users']].values # type your code here\n",
        "    if rebase_users:\n",
        "        user_idx, user_index = pd.factorize(user_idx, sort=True)\n",
        "        n_users = len(user_index)\n",
        "    item_idx = data[data_description['items']].values # type your code here\n",
        "    feedback = data[data_description['feedback']].values # type your code here\n",
        "    # construct rating matrix\n",
        "    return csr_matrix((feedback, (user_idx, item_idx)), shape=(n_users, n_items))"
      ],
      "metadata": {
        "id": "ZRcv5FwCqEgG"
      },
      "execution_count": null,
      "outputs": []
    },
    {
      "cell_type": "code",
      "source": [
        "train_matrix = generate_interactions_matrix(training, data_description, rebase_users=True)\n",
        "train_matrix"
      ],
      "metadata": {
        "colab": {
          "base_uri": "https://localhost:8080/"
        },
        "id": "RtC8Vvefrxe_",
        "outputId": "2a140cff-c7bd-40e9-fb5e-b4aa1b0fc3f2"
      },
      "execution_count": null,
      "outputs": [
        {
          "output_type": "execute_result",
          "data": {
            "text/plain": [
              "<36958x7636 sparse matrix of type '<class 'numpy.int64'>'\n",
              "\twith 96267 stored elements in Compressed Sparse Row format>"
            ]
          },
          "metadata": {},
          "execution_count": 20
        }
      ]
    },
    {
      "cell_type": "code",
      "source": [
        "test_matrix = generate_interactions_matrix(testset, data_description_test, rebase_users=True)\n",
        "test_matrix"
      ],
      "metadata": {
        "colab": {
          "base_uri": "https://localhost:8080/"
        },
        "id": "5HC5mWmSrxcq",
        "outputId": "3e701c34-db73-4241-8435-8687a9937fa0"
      },
      "execution_count": null,
      "outputs": [
        {
          "output_type": "execute_result",
          "data": {
            "text/plain": [
              "<500x7636 sparse matrix of type '<class 'numpy.int64'>'\n",
              "\twith 12530 stored elements in Compressed Sparse Row format>"
            ]
          },
          "metadata": {},
          "execution_count": 21
        }
      ]
    },
    {
      "cell_type": "markdown",
      "source": [
        "# 3. Создание user features"
      ],
      "metadata": {
        "id": "9dkdz1jHoC1k"
      }
    },
    {
      "cell_type": "code",
      "source": [
        "def get_age(birthday: str) -> int:\n",
        "    try:\n",
        "        date_object = datetime.strptime(birthday, '%b %d, %Y')\n",
        "        age = (datetime.now() - date_object).days // 365\n",
        "    except:\n",
        "        age = None\n",
        "    return age\n",
        "\n",
        "def get_user_features(data: pd.DataFrame):\n",
        "    data = data.copy()\n",
        "    data['age'] = data.birthday.apply(get_age)\n",
        "    data['age'].fillna(data['age'].median(), inplace=True)\n",
        "\n",
        "    data.gender = data.gender.apply(lambda x: 'Unknown' if x not in ('Male', 'Female') else x)\n",
        "    data = pd.get_dummies(data, columns=['gender']).iloc[:, -4:]\n",
        "    user_features = csr_matrix(data.iloc[:, -4:].values)\n",
        "    return user_features"
      ],
      "metadata": {
        "id": "_O-WWgtJo1pG"
      },
      "execution_count": null,
      "outputs": []
    },
    {
      "cell_type": "code",
      "source": [
        "profile_data.head()"
      ],
      "metadata": {
        "colab": {
          "base_uri": "https://localhost:8080/",
          "height": 206
        },
        "id": "WkTvMCqwoIgt",
        "outputId": "669ae874-05a2-4b35-d810-4ea46d452468"
      },
      "execution_count": null,
      "outputs": [
        {
          "output_type": "execute_result",
          "data": {
            "text/plain": [
              "                user_id  gender      birthday  \\\n",
              "9140   -----noname-----     NaN  Dec 31, 2019   \n",
              "16956   ---SnowFlake---     NaN           NaN   \n",
              "5220           --Mizu--  Female   Jul 3, 1995   \n",
              "3998      --Sunclaudius    Male           NaN   \n",
              "2379    --animeislife--  Female  Jul 19, 1996   \n",
              "\n",
              "                                         favorites_anime  \\\n",
              "9140           [21, 245, 1575, 2001, 6774, 11061, 16592]   \n",
              "16956                                [2904, 6773, 10790]   \n",
              "5220                  [21, 177, 4081, 5678, 6864, 23289]   \n",
              "3998                                [6594, 13125, 34561]   \n",
              "2379   [249, 2167, 8460, 9989, 10793, 13601, 14467, 1...   \n",
              "\n",
              "                                                   link  \n",
              "9140   https://myanimelist.net/profile/-----noname-----  \n",
              "16956   https://myanimelist.net/profile/---SnowFlake---  \n",
              "5220           https://myanimelist.net/profile/--Mizu--  \n",
              "3998      https://myanimelist.net/profile/--Sunclaudius  \n",
              "2379    https://myanimelist.net/profile/--animeislife--  "
            ],
            "text/html": [
              "\n",
              "  <div id=\"df-2ce1ccdd-65fa-47b5-a4b5-b47367cdccd7\" class=\"colab-df-container\">\n",
              "    <div>\n",
              "<style scoped>\n",
              "    .dataframe tbody tr th:only-of-type {\n",
              "        vertical-align: middle;\n",
              "    }\n",
              "\n",
              "    .dataframe tbody tr th {\n",
              "        vertical-align: top;\n",
              "    }\n",
              "\n",
              "    .dataframe thead th {\n",
              "        text-align: right;\n",
              "    }\n",
              "</style>\n",
              "<table border=\"1\" class=\"dataframe\">\n",
              "  <thead>\n",
              "    <tr style=\"text-align: right;\">\n",
              "      <th></th>\n",
              "      <th>user_id</th>\n",
              "      <th>gender</th>\n",
              "      <th>birthday</th>\n",
              "      <th>favorites_anime</th>\n",
              "      <th>link</th>\n",
              "    </tr>\n",
              "  </thead>\n",
              "  <tbody>\n",
              "    <tr>\n",
              "      <th>9140</th>\n",
              "      <td>-----noname-----</td>\n",
              "      <td>NaN</td>\n",
              "      <td>Dec 31, 2019</td>\n",
              "      <td>[21, 245, 1575, 2001, 6774, 11061, 16592]</td>\n",
              "      <td>https://myanimelist.net/profile/-----noname-----</td>\n",
              "    </tr>\n",
              "    <tr>\n",
              "      <th>16956</th>\n",
              "      <td>---SnowFlake---</td>\n",
              "      <td>NaN</td>\n",
              "      <td>NaN</td>\n",
              "      <td>[2904, 6773, 10790]</td>\n",
              "      <td>https://myanimelist.net/profile/---SnowFlake---</td>\n",
              "    </tr>\n",
              "    <tr>\n",
              "      <th>5220</th>\n",
              "      <td>--Mizu--</td>\n",
              "      <td>Female</td>\n",
              "      <td>Jul 3, 1995</td>\n",
              "      <td>[21, 177, 4081, 5678, 6864, 23289]</td>\n",
              "      <td>https://myanimelist.net/profile/--Mizu--</td>\n",
              "    </tr>\n",
              "    <tr>\n",
              "      <th>3998</th>\n",
              "      <td>--Sunclaudius</td>\n",
              "      <td>Male</td>\n",
              "      <td>NaN</td>\n",
              "      <td>[6594, 13125, 34561]</td>\n",
              "      <td>https://myanimelist.net/profile/--Sunclaudius</td>\n",
              "    </tr>\n",
              "    <tr>\n",
              "      <th>2379</th>\n",
              "      <td>--animeislife--</td>\n",
              "      <td>Female</td>\n",
              "      <td>Jul 19, 1996</td>\n",
              "      <td>[249, 2167, 8460, 9989, 10793, 13601, 14467, 1...</td>\n",
              "      <td>https://myanimelist.net/profile/--animeislife--</td>\n",
              "    </tr>\n",
              "  </tbody>\n",
              "</table>\n",
              "</div>\n",
              "    <div class=\"colab-df-buttons\">\n",
              "\n",
              "  <div class=\"colab-df-container\">\n",
              "    <button class=\"colab-df-convert\" onclick=\"convertToInteractive('df-2ce1ccdd-65fa-47b5-a4b5-b47367cdccd7')\"\n",
              "            title=\"Convert this dataframe to an interactive table.\"\n",
              "            style=\"display:none;\">\n",
              "\n",
              "  <svg xmlns=\"http://www.w3.org/2000/svg\" height=\"24px\" viewBox=\"0 -960 960 960\">\n",
              "    <path d=\"M120-120v-720h720v720H120Zm60-500h600v-160H180v160Zm220 220h160v-160H400v160Zm0 220h160v-160H400v160ZM180-400h160v-160H180v160Zm440 0h160v-160H620v160ZM180-180h160v-160H180v160Zm440 0h160v-160H620v160Z\"/>\n",
              "  </svg>\n",
              "    </button>\n",
              "\n",
              "  <style>\n",
              "    .colab-df-container {\n",
              "      display:flex;\n",
              "      gap: 12px;\n",
              "    }\n",
              "\n",
              "    .colab-df-convert {\n",
              "      background-color: #E8F0FE;\n",
              "      border: none;\n",
              "      border-radius: 50%;\n",
              "      cursor: pointer;\n",
              "      display: none;\n",
              "      fill: #1967D2;\n",
              "      height: 32px;\n",
              "      padding: 0 0 0 0;\n",
              "      width: 32px;\n",
              "    }\n",
              "\n",
              "    .colab-df-convert:hover {\n",
              "      background-color: #E2EBFA;\n",
              "      box-shadow: 0px 1px 2px rgba(60, 64, 67, 0.3), 0px 1px 3px 1px rgba(60, 64, 67, 0.15);\n",
              "      fill: #174EA6;\n",
              "    }\n",
              "\n",
              "    .colab-df-buttons div {\n",
              "      margin-bottom: 4px;\n",
              "    }\n",
              "\n",
              "    [theme=dark] .colab-df-convert {\n",
              "      background-color: #3B4455;\n",
              "      fill: #D2E3FC;\n",
              "    }\n",
              "\n",
              "    [theme=dark] .colab-df-convert:hover {\n",
              "      background-color: #434B5C;\n",
              "      box-shadow: 0px 1px 3px 1px rgba(0, 0, 0, 0.15);\n",
              "      filter: drop-shadow(0px 1px 2px rgba(0, 0, 0, 0.3));\n",
              "      fill: #FFFFFF;\n",
              "    }\n",
              "  </style>\n",
              "\n",
              "    <script>\n",
              "      const buttonEl =\n",
              "        document.querySelector('#df-2ce1ccdd-65fa-47b5-a4b5-b47367cdccd7 button.colab-df-convert');\n",
              "      buttonEl.style.display =\n",
              "        google.colab.kernel.accessAllowed ? 'block' : 'none';\n",
              "\n",
              "      async function convertToInteractive(key) {\n",
              "        const element = document.querySelector('#df-2ce1ccdd-65fa-47b5-a4b5-b47367cdccd7');\n",
              "        const dataTable =\n",
              "          await google.colab.kernel.invokeFunction('convertToInteractive',\n",
              "                                                    [key], {});\n",
              "        if (!dataTable) return;\n",
              "\n",
              "        const docLinkHtml = 'Like what you see? Visit the ' +\n",
              "          '<a target=\"_blank\" href=https://colab.research.google.com/notebooks/data_table.ipynb>data table notebook</a>'\n",
              "          + ' to learn more about interactive tables.';\n",
              "        element.innerHTML = '';\n",
              "        dataTable['output_type'] = 'display_data';\n",
              "        await google.colab.output.renderOutput(dataTable, element);\n",
              "        const docLink = document.createElement('div');\n",
              "        docLink.innerHTML = docLinkHtml;\n",
              "        element.appendChild(docLink);\n",
              "      }\n",
              "    </script>\n",
              "  </div>\n",
              "\n",
              "\n",
              "<div id=\"df-1abb831b-3ec1-4b50-a60b-f763ff64fa3e\">\n",
              "  <button class=\"colab-df-quickchart\" onclick=\"quickchart('df-1abb831b-3ec1-4b50-a60b-f763ff64fa3e')\"\n",
              "            title=\"Suggest charts\"\n",
              "            style=\"display:none;\">\n",
              "\n",
              "<svg xmlns=\"http://www.w3.org/2000/svg\" height=\"24px\"viewBox=\"0 0 24 24\"\n",
              "     width=\"24px\">\n",
              "    <g>\n",
              "        <path d=\"M19 3H5c-1.1 0-2 .9-2 2v14c0 1.1.9 2 2 2h14c1.1 0 2-.9 2-2V5c0-1.1-.9-2-2-2zM9 17H7v-7h2v7zm4 0h-2V7h2v10zm4 0h-2v-4h2v4z\"/>\n",
              "    </g>\n",
              "</svg>\n",
              "  </button>\n",
              "\n",
              "<style>\n",
              "  .colab-df-quickchart {\n",
              "      --bg-color: #E8F0FE;\n",
              "      --fill-color: #1967D2;\n",
              "      --hover-bg-color: #E2EBFA;\n",
              "      --hover-fill-color: #174EA6;\n",
              "      --disabled-fill-color: #AAA;\n",
              "      --disabled-bg-color: #DDD;\n",
              "  }\n",
              "\n",
              "  [theme=dark] .colab-df-quickchart {\n",
              "      --bg-color: #3B4455;\n",
              "      --fill-color: #D2E3FC;\n",
              "      --hover-bg-color: #434B5C;\n",
              "      --hover-fill-color: #FFFFFF;\n",
              "      --disabled-bg-color: #3B4455;\n",
              "      --disabled-fill-color: #666;\n",
              "  }\n",
              "\n",
              "  .colab-df-quickchart {\n",
              "    background-color: var(--bg-color);\n",
              "    border: none;\n",
              "    border-radius: 50%;\n",
              "    cursor: pointer;\n",
              "    display: none;\n",
              "    fill: var(--fill-color);\n",
              "    height: 32px;\n",
              "    padding: 0;\n",
              "    width: 32px;\n",
              "  }\n",
              "\n",
              "  .colab-df-quickchart:hover {\n",
              "    background-color: var(--hover-bg-color);\n",
              "    box-shadow: 0 1px 2px rgba(60, 64, 67, 0.3), 0 1px 3px 1px rgba(60, 64, 67, 0.15);\n",
              "    fill: var(--button-hover-fill-color);\n",
              "  }\n",
              "\n",
              "  .colab-df-quickchart-complete:disabled,\n",
              "  .colab-df-quickchart-complete:disabled:hover {\n",
              "    background-color: var(--disabled-bg-color);\n",
              "    fill: var(--disabled-fill-color);\n",
              "    box-shadow: none;\n",
              "  }\n",
              "\n",
              "  .colab-df-spinner {\n",
              "    border: 2px solid var(--fill-color);\n",
              "    border-color: transparent;\n",
              "    border-bottom-color: var(--fill-color);\n",
              "    animation:\n",
              "      spin 1s steps(1) infinite;\n",
              "  }\n",
              "\n",
              "  @keyframes spin {\n",
              "    0% {\n",
              "      border-color: transparent;\n",
              "      border-bottom-color: var(--fill-color);\n",
              "      border-left-color: var(--fill-color);\n",
              "    }\n",
              "    20% {\n",
              "      border-color: transparent;\n",
              "      border-left-color: var(--fill-color);\n",
              "      border-top-color: var(--fill-color);\n",
              "    }\n",
              "    30% {\n",
              "      border-color: transparent;\n",
              "      border-left-color: var(--fill-color);\n",
              "      border-top-color: var(--fill-color);\n",
              "      border-right-color: var(--fill-color);\n",
              "    }\n",
              "    40% {\n",
              "      border-color: transparent;\n",
              "      border-right-color: var(--fill-color);\n",
              "      border-top-color: var(--fill-color);\n",
              "    }\n",
              "    60% {\n",
              "      border-color: transparent;\n",
              "      border-right-color: var(--fill-color);\n",
              "    }\n",
              "    80% {\n",
              "      border-color: transparent;\n",
              "      border-right-color: var(--fill-color);\n",
              "      border-bottom-color: var(--fill-color);\n",
              "    }\n",
              "    90% {\n",
              "      border-color: transparent;\n",
              "      border-bottom-color: var(--fill-color);\n",
              "    }\n",
              "  }\n",
              "</style>\n",
              "\n",
              "  <script>\n",
              "    async function quickchart(key) {\n",
              "      const quickchartButtonEl =\n",
              "        document.querySelector('#' + key + ' button');\n",
              "      quickchartButtonEl.disabled = true;  // To prevent multiple clicks.\n",
              "      quickchartButtonEl.classList.add('colab-df-spinner');\n",
              "      try {\n",
              "        const charts = await google.colab.kernel.invokeFunction(\n",
              "            'suggestCharts', [key], {});\n",
              "      } catch (error) {\n",
              "        console.error('Error during call to suggestCharts:', error);\n",
              "      }\n",
              "      quickchartButtonEl.classList.remove('colab-df-spinner');\n",
              "      quickchartButtonEl.classList.add('colab-df-quickchart-complete');\n",
              "    }\n",
              "    (() => {\n",
              "      let quickchartButtonEl =\n",
              "        document.querySelector('#df-1abb831b-3ec1-4b50-a60b-f763ff64fa3e button');\n",
              "      quickchartButtonEl.style.display =\n",
              "        google.colab.kernel.accessAllowed ? 'block' : 'none';\n",
              "    })();\n",
              "  </script>\n",
              "</div>\n",
              "    </div>\n",
              "  </div>\n"
            ]
          },
          "metadata": {},
          "execution_count": 23
        }
      ]
    },
    {
      "cell_type": "code",
      "source": [
        "train_profile_data = profile_data[~profile_data.user_id.isin(test_users)]\n",
        "test_profile_data = profile_data[profile_data.user_id.isin(test_users)]"
      ],
      "metadata": {
        "id": "Kk1HNC5MoGqG"
      },
      "execution_count": null,
      "outputs": []
    },
    {
      "cell_type": "code",
      "source": [
        "train_user_features = get_user_features(train_profile_data)\n",
        "test_user_features = get_user_features(test_profile_data)\n",
        "test_user_features"
      ],
      "metadata": {
        "colab": {
          "base_uri": "https://localhost:8080/"
        },
        "id": "n84teGzraE-L",
        "outputId": "15d220e4-1732-4401-aed8-5eb81afa1d97"
      },
      "execution_count": null,
      "outputs": [
        {
          "output_type": "execute_result",
          "data": {
            "text/plain": [
              "<500x4 sparse matrix of type '<class 'numpy.float64'>'\n",
              "\twith 1000 stored elements in Compressed Sparse Row format>"
            ]
          },
          "metadata": {},
          "execution_count": 25
        }
      ]
    },
    {
      "cell_type": "markdown",
      "source": [
        "# 4. Build model"
      ],
      "metadata": {
        "id": "sqDapKXa6xM_"
      }
    },
    {
      "cell_type": "code",
      "source": [
        "data_description['user_features'] = train_user_features\n",
        "data_description['item_features'] = None\n",
        "data_description"
      ],
      "metadata": {
        "colab": {
          "base_uri": "https://localhost:8080/"
        },
        "id": "l8sadOy7crLr",
        "outputId": "caeade00-3623-470b-b10a-0e4096abc4e9"
      },
      "execution_count": null,
      "outputs": [
        {
          "output_type": "execute_result",
          "data": {
            "text/plain": [
              "{'users': 'user_id',\n",
              " 'items': 'anime_id',\n",
              " 'feedback': 'score',\n",
              " 'n_users': 36958,\n",
              " 'n_items': 7636,\n",
              " 'user_features': <36958x4 sparse matrix of type '<class 'numpy.float64'>'\n",
              " \twith 73916 stored elements in Compressed Sparse Row format>,\n",
              " 'item_features': None}"
            ]
          },
          "metadata": {},
          "execution_count": 26
        }
      ]
    },
    {
      "cell_type": "code",
      "source": [
        "data_description_test['user_features'] = test_user_features\n",
        "data_description_test['item_features'] = None\n",
        "data_description_test"
      ],
      "metadata": {
        "colab": {
          "base_uri": "https://localhost:8080/"
        },
        "id": "TXRoBo1kGXtT",
        "outputId": "d1733259-8ada-4c84-d5d2-b9bd476ace92"
      },
      "execution_count": null,
      "outputs": [
        {
          "output_type": "execute_result",
          "data": {
            "text/plain": [
              "{'users': 'user_id',\n",
              " 'items': 'anime_id',\n",
              " 'feedback': 'score',\n",
              " 'n_users': 500,\n",
              " 'n_items': 7636,\n",
              " 'user_features': <500x4 sparse matrix of type '<class 'numpy.float64'>'\n",
              " \twith 1000 stored elements in Compressed Sparse Row format>,\n",
              " 'item_features': None}"
            ]
          },
          "metadata": {},
          "execution_count": 27
        }
      ]
    },
    {
      "cell_type": "markdown",
      "source": [
        "## 4.1 Train_model"
      ],
      "metadata": {
        "id": "coHnu4zMGZje"
      }
    },
    {
      "cell_type": "code",
      "source": [
        "lfm_config = dict(\n",
        "    no_components = 100,\n",
        "    loss = 'warp',\n",
        "    max_sampled = 1,\n",
        "    max_epochs = 100,\n",
        "    learning_schedule = 'adagrad',\n",
        "    user_alpha = 1e-3,\n",
        "    item_alpha = 1e-3,\n",
        "    random_state = 7032023\n",
        ")\n",
        "\n",
        "lfm_model = build_lfm_model(\n",
        "    lfm_config,\n",
        "    train_matrix,\n",
        "    data_description,\n",
        "    iterator = tqdm\n",
        ")"
      ],
      "metadata": {
        "colab": {
          "base_uri": "https://localhost:8080/",
          "height": 49,
          "referenced_widgets": [
            "e5149b91c04e4e9db925bc9df5fb91e9",
            "7c0e05483a4a42efa8b994900d849dbe",
            "e6b4966465434d2ba68d26681fdb9cd0",
            "fd1a3a90b5e8482ca4c303932dc9e06a",
            "44ccae6b27fd43669feb243674a66bd5",
            "4a3b5dccd72f48b1aeb8b8fb4c270b28",
            "f2edb8d88d9640238a64da11842d8476",
            "d3c45525870f44e3a24f7edbf897bda3",
            "7a27f4409b7b469fb991ea0db6a64aed",
            "8148e4bc75414183bcd31973f70bbf4b",
            "6d4e9ca9465344e2bf6dd7d8bb909082"
          ]
        },
        "id": "Eh-MIfnna7Rg",
        "outputId": "0503f6e8-079e-40b9-f308-8e3b06039eb6"
      },
      "execution_count": null,
      "outputs": [
        {
          "output_type": "display_data",
          "data": {
            "text/plain": [
              "  0%|          | 0/100 [00:00<?, ?it/s]"
            ],
            "application/vnd.jupyter.widget-view+json": {
              "version_major": 2,
              "version_minor": 0,
              "model_id": "e5149b91c04e4e9db925bc9df5fb91e9"
            }
          },
          "metadata": {}
        }
      ]
    },
    {
      "cell_type": "code",
      "source": [
        "user_biases, user_embeddings = lfm_model.get_user_representations(features=train_user_features)\n",
        "item_biases, item_embeddings  = lfm_model.get_item_representations()\n",
        "user_embeddings.shape, item_embeddings.shape"
      ],
      "metadata": {
        "colab": {
          "base_uri": "https://localhost:8080/"
        },
        "id": "Ib0noqkS7hDb",
        "outputId": "a39b7e5e-2fac-434f-98c1-ac3b8444a830"
      },
      "execution_count": null,
      "outputs": [
        {
          "output_type": "execute_result",
          "data": {
            "text/plain": [
              "((36958, 20), (7636, 20))"
            ]
          },
          "metadata": {},
          "execution_count": 30
        }
      ]
    },
    {
      "cell_type": "code",
      "source": [
        "full_user_features = vstack([train_user_features, test_user_features])\n",
        "full_user_features"
      ],
      "metadata": {
        "colab": {
          "base_uri": "https://localhost:8080/"
        },
        "id": "9QgQtAumPxPO",
        "outputId": "45b3681a-4ca6-457b-90f9-ff404074f8cf"
      },
      "execution_count": null,
      "outputs": [
        {
          "output_type": "execute_result",
          "data": {
            "text/plain": [
              "<37458x4 sparse matrix of type '<class 'numpy.float64'>'\n",
              "\twith 74916 stored elements in Compressed Sparse Row format>"
            ]
          },
          "metadata": {},
          "execution_count": 31
        }
      ]
    },
    {
      "cell_type": "markdown",
      "source": [
        "# 5. Predictions"
      ],
      "metadata": {
        "id": "o9SVuEMICXLZ"
      }
    },
    {
      "cell_type": "code",
      "source": [
        "def lightfm_scoring(model, data, data_description, item_bias=True):\n",
        "    \"\"\"\n",
        "    A standard scoring function adopted for use with LightFM in the user cold-start settings.\n",
        "    \"\"\"\n",
        "    dtype = 'i4'\n",
        "    test_users = data_description['test_users'].astype(dtype)\n",
        "    all_items = np.arange(data_description['n_items']).astype(dtype)\n",
        "    item_index, user_index = np.meshgrid(all_items, test_users, copy=False)\n",
        "\n",
        "    item_biases = model.item_biases.copy()\n",
        "\n",
        "    if item_bias:\n",
        "        model.item_biases *= 0\n",
        "    lfm_scores = model.predict(\n",
        "        user_index.ravel(),\n",
        "        item_index.ravel(),\n",
        "        user_features = data_description['user_features'],\n",
        "        item_features = data_description['item_features'],\n",
        "    )\n",
        "    model.item_biases[:] = item_biases\n",
        "    scores = lfm_scores.reshape(len(test_users), len(all_items))\n",
        "    return scores\n",
        "\n",
        "def coldstart_evaluate(recommended, holdout, data_description, topn=20):\n",
        "    \"\"\"\n",
        "    Evaluates the performance of a recommender system for item cold-start scenario.\n",
        "    It takes in `recommended_users` - a 2D array of recommended users for each cold item in the holdout.\n",
        "    It returns a dictionary containing with evaluation metrics.\n",
        "    \"\"\"\n",
        "    holdout_items = holdout[data_description['items']].values\n",
        "    assert recommended.shape[0] == len(holdout_items)\n",
        "\n",
        "    hits_mask = recommended[:, :topn] == holdout_items.reshape(-1, 1)\n",
        "    # HR calculation\n",
        "    hr = np.mean(hits_mask.any(axis=1))\n",
        "    # MRR calculation\n",
        "    n_test_items = recommended.shape[0]\n",
        "    hit_rank = np.where(hits_mask)[1] + 1.0\n",
        "    mrr = np.sum(1 / hit_rank) / n_test_items\n",
        "    cov = len(np.unique(recommended.ravel())) / data_description['n_items']\n",
        "    ndcg = np.sum(1 / np.log2(1+hit_rank)) / n_test_items\n",
        "    return {'hr': hr, 'mrr': mrr, 'cov': cov, 'ndcg': ndcg}"
      ],
      "metadata": {
        "id": "uFJC7F5EGT3h"
      },
      "execution_count": null,
      "outputs": []
    },
    {
      "cell_type": "markdown",
      "source": [
        "## 5.1 Cold case\n",
        "Матрица интеракций пустая, только признаки пользоватей"
      ],
      "metadata": {
        "id": "VTjD5PzPDI2s"
      }
    },
    {
      "cell_type": "code",
      "source": [
        "scoring_description = dict(\n",
        "    test_users = np.arange(data_description['n_users'], review_data.user_id.nunique()),\n",
        "    user_features = vstack([train_user_features, test_user_features]),\n",
        "    item_features = None,\n",
        "    n_items = data_description['n_items']\n",
        ")"
      ],
      "metadata": {
        "id": "zQ0Ux5KgS9jn"
      },
      "execution_count": null,
      "outputs": []
    },
    {
      "cell_type": "code",
      "source": [
        "lfm_scores = lightfm_scoring(lfm_model, None, scoring_description, False)\n",
        "downvote_seen_items(lfm_scores, testset, data_description_test)\n",
        "lfm_scores.shape"
      ],
      "metadata": {
        "colab": {
          "base_uri": "https://localhost:8080/"
        },
        "id": "Te8DL7MlCWQG",
        "outputId": "ce68fd51-e96b-4b58-e2d2-7ccb0e9a7956"
      },
      "execution_count": null,
      "outputs": [
        {
          "output_type": "execute_result",
          "data": {
            "text/plain": [
              "(500, 7636)"
            ]
          },
          "metadata": {},
          "execution_count": 73
        }
      ]
    },
    {
      "cell_type": "code",
      "source": [
        "topn = 50\n",
        "lfm_recs = topn_recommendations(lfm_scores, topn=topn)\n",
        "metrics = coldstart_evaluate(lfm_recs, holdout, data_description_test, topn=topn)\n",
        "metrics"
      ],
      "metadata": {
        "colab": {
          "base_uri": "https://localhost:8080/"
        },
        "id": "ycqB2_ZwU6Oa",
        "outputId": "060c5d07-9131-4cc2-95bc-a535857f9441"
      },
      "execution_count": null,
      "outputs": [
        {
          "output_type": "execute_result",
          "data": {
            "text/plain": [
              "{'hr': 0.244,\n",
              " 'mrr': 0.03371535393707014,\n",
              " 'cov': 0.023048716605552647,\n",
              " 'ndcg': 0.07481463692088518}"
            ]
          },
          "metadata": {},
          "execution_count": 74
        }
      ]
    },
    {
      "cell_type": "markdown",
      "source": [
        "## 5.2 Warm case all data"
      ],
      "metadata": {
        "id": "FqDUWN4Jioa1"
      }
    },
    {
      "cell_type": "code",
      "source": [
        "lfm_model.fit_partial(\n",
        "    interactions=vstack([train_matrix, test_matrix]),\n",
        "    user_features=full_user_features,\n",
        "    epochs=10\n",
        ")"
      ],
      "metadata": {
        "colab": {
          "base_uri": "https://localhost:8080/"
        },
        "id": "xT-qvqDdioRA",
        "outputId": "9f0557bc-25f2-4236-8f46-c2d611dce9ec"
      },
      "execution_count": null,
      "outputs": [
        {
          "output_type": "execute_result",
          "data": {
            "text/plain": [
              "<lightfm.lightfm.LightFM at 0x7a8e96ff3430>"
            ]
          },
          "metadata": {},
          "execution_count": 75
        }
      ]
    },
    {
      "cell_type": "code",
      "source": [
        "lfm_scores = lightfm_scoring(lfm_model, None, scoring_description, False)\n",
        "downvote_seen_items(lfm_scores, testset, data_description_test)\n",
        "lfm_scores.shape"
      ],
      "metadata": {
        "colab": {
          "base_uri": "https://localhost:8080/"
        },
        "id": "GHmhQ4YAi9Kn",
        "outputId": "f1f65ac0-5bd0-4acb-e4b1-8b760347642d"
      },
      "execution_count": null,
      "outputs": [
        {
          "output_type": "execute_result",
          "data": {
            "text/plain": [
              "(500, 7636)"
            ]
          },
          "metadata": {},
          "execution_count": 76
        }
      ]
    },
    {
      "cell_type": "code",
      "source": [
        "topn = 50\n",
        "lfm_recs = topn_recommendations(lfm_scores, topn=topn)\n",
        "warm_metrics = coldstart_evaluate(lfm_recs, holdout, data_description_test, topn=topn)\n",
        "warm_metrics"
      ],
      "metadata": {
        "colab": {
          "base_uri": "https://localhost:8080/"
        },
        "id": "imm3-9sLi9Fa",
        "outputId": "8de5413f-d175-48d1-8d0d-6a437c449c68"
      },
      "execution_count": null,
      "outputs": [
        {
          "output_type": "execute_result",
          "data": {
            "text/plain": [
              "{'hr': 0.248,\n",
              " 'mrr': 0.04165419033135172,\n",
              " 'cov': 0.02435830277632268,\n",
              " 'ndcg': 0.0824202969252737}"
            ]
          },
          "metadata": {},
          "execution_count": 77
        }
      ]
    },
    {
      "cell_type": "markdown",
      "source": [],
      "metadata": {
        "id": "NLMsiNbAuGGz"
      }
    },
    {
      "cell_type": "markdown",
      "source": [
        "## 5.3 Intermediate case\n",
        "Оценка влияния известного количества интеракций на качество рекомендаций"
      ],
      "metadata": {
        "id": "_mTemcWfDQ5I"
      }
    },
    {
      "cell_type": "code",
      "source": [
        "def sampling_interactions(data: pd.DataFrame, num_interactions: int) -> pd.DataFrame:\n",
        "    \"\"\"\n",
        "    Для каждого пользователя семлируется заданное число интеракций и возвращается\n",
        "    новый dataframe\n",
        "    \"\"\"\n",
        "    return testset.groupby('user_id').sample(num_interactions)"
      ],
      "metadata": {
        "id": "vDcPEcL9Dk4X"
      },
      "execution_count": null,
      "outputs": []
    },
    {
      "cell_type": "code",
      "source": [
        "result_metrics = defaultdict(list)\n",
        "topn = 30\n",
        "for num in tqdm(range(10)):\n",
        "    for i in range(20):\n",
        "        lfm_model = build_lfm_model(\n",
        "            lfm_config,\n",
        "            train_matrix,\n",
        "            data_description\n",
        "        )\n",
        "        current_testset = sampling_interactions(testset, num)\n",
        "        current_matrix = generate_interactions_matrix(\n",
        "            current_testset, data_description_test, rebase_users=True\n",
        "        )\n",
        "        current_matrix = vstack([train_matrix, current_matrix])\n",
        "        lfm_model.fit_partial(\n",
        "            interactions=current_matrix,\n",
        "            user_features=full_user_features,\n",
        "            epochs=10\n",
        "        )\n",
        "        lfm_scores = lightfm_scoring(lfm_model, None, scoring_description, False)\n",
        "        downvote_seen_items(lfm_scores, testset, data_description_test)\n",
        "        lfm_recs = topn_recommendations(lfm_scores, topn=topn)\n",
        "\n",
        "        metrics = coldstart_evaluate(lfm_recs, holdout, data_description_test, topn=topn)\n",
        "        result_metrics[num].append(metrics)"
      ],
      "metadata": {
        "colab": {
          "base_uri": "https://localhost:8080/",
          "height": 49,
          "referenced_widgets": [
            "aea04c2e17a8479bb5578e0a098e734b",
            "6368190706b2440290817f8cfaefb0c3",
            "237a5ee94ef64dcc8c9961390de795e4",
            "99aa6e7dab8f4259b938b8083b50269d",
            "0470fde799a44a84b5c445dd49dd5930",
            "cea7b9e7c8ca4ea9862c3fc936b4b0e5",
            "e5ebed657ab94b299fa9bee3d9624550",
            "c6cff8d1acf349e3a07b9ad90a74df19",
            "d639e887aedf485fac9a6d8cf0c8dc18",
            "c258577710064747a0b7298b2226ec86",
            "7e3dcaace30140ed89430a7a79b039a9"
          ]
        },
        "id": "zm0irfhFDbyZ",
        "outputId": "c28f06e7-3301-4bc2-9da0-8aed0cf4d753"
      },
      "execution_count": null,
      "outputs": [
        {
          "output_type": "display_data",
          "data": {
            "text/plain": [
              "  0%|          | 0/10 [00:00<?, ?it/s]"
            ],
            "application/vnd.jupyter.widget-view+json": {
              "version_major": 2,
              "version_minor": 0,
              "model_id": "aea04c2e17a8479bb5578e0a098e734b"
            }
          },
          "metadata": {}
        }
      ]
    },
    {
      "cell_type": "code",
      "source": [
        "for num in tqdm(range(10))"
      ],
      "metadata": {
        "id": "6-rQFVy37R0L"
      },
      "execution_count": null,
      "outputs": []
    },
    {
      "cell_type": "code",
      "source": [
        "hr = []\n",
        "for key in result_metrics:\n",
        "    temp = []\n",
        "    for exp in result_metrics[key]:\n",
        "        temp.append(exp['ndcg'])\n",
        "    hr.append(temp)\n",
        "hr = np.array(hr)"
      ],
      "metadata": {
        "id": "-tJ2soWz8Rd2"
      },
      "execution_count": null,
      "outputs": []
    },
    {
      "cell_type": "code",
      "source": [
        "plt.figure(figsize=(10, 4))\n",
        "for cur in hr.T:\n",
        "    plt.plot(cur, color='b',alpha=0.4)"
      ],
      "metadata": {
        "colab": {
          "base_uri": "https://localhost:8080/",
          "height": 368
        },
        "id": "PIZ9gBo69ZT4",
        "outputId": "654e396a-d319-4c25-a82d-5945553b47e6"
      },
      "execution_count": null,
      "outputs": [
        {
          "output_type": "display_data",
          "data": {
            "text/plain": [
              "<Figure size 1000x400 with 1 Axes>"
            ],
            "image/png": "[encoded data removed]"
          },
          "metadata": {}
        }
      ]
    },
    {
      "cell_type": "code",
      "source": [
        "result_metrics[3]"
      ],
      "metadata": {
        "colab": {
          "base_uri": "https://localhost:8080/"
        },
        "id": "JKdFZRzi7Rv2",
        "outputId": "581e66df-91f5-4bae-facf-d56d831202c0"
      },
      "execution_count": null,
      "outputs": [
        {
          "output_type": "execute_result",
          "data": {
            "text/plain": [
              "[{'hr': 0.17,\n",
              "  'mrr': 0.0245799078976509,\n",
              "  'cov': 0.012572027239392353,\n",
              "  'ndcg': 0.05489208489830989},\n",
              " {'hr': 0.168,\n",
              "  'mrr': 0.024541848307290004,\n",
              "  'cov': 0.01283394447354636,\n",
              "  'ndcg': 0.05458712220049444},\n",
              " {'hr': 0.176,\n",
              "  'mrr': 0.025612365381239087,\n",
              "  'cov': 0.012441068622315348,\n",
              "  'ndcg': 0.05663089459021553},\n",
              " {'hr': 0.172,\n",
              "  'mrr': 0.025344536263208057,\n",
              "  'cov': 0.012310110005238345,\n",
              "  'ndcg': 0.05574035803966875},\n",
              " {'hr': 0.176,\n",
              "  'mrr': 0.027620534367371646,\n",
              "  'cov': 0.012310110005238345,\n",
              "  'ndcg': 0.05826229451285376},\n",
              " {'hr': 0.166,\n",
              "  'mrr': 0.022150034571677833,\n",
              "  'cov': 0.01217915138816134,\n",
              "  'ndcg': 0.05210459338974794},\n",
              " {'hr': 0.168,\n",
              "  'mrr': 0.02564356100247258,\n",
              "  'cov': 0.012441068622315348,\n",
              "  'ndcg': 0.05527863089998448},\n",
              " {'hr': 0.178,\n",
              "  'mrr': 0.0273019498511996,\n",
              "  'cov': 0.012702985856469355,\n",
              "  'ndcg': 0.058379341525105974},\n",
              " {'hr': 0.168,\n",
              "  'mrr': 0.02600318840106564,\n",
              "  'cov': 0.01283394447354636,\n",
              "  'ndcg': 0.055545278465530444},\n",
              " {'hr': 0.17,\n",
              "  'mrr': 0.025338532669476273,\n",
              "  'cov': 0.012441068622315348,\n",
              "  'ndcg': 0.05541879586092685}]"
            ]
          },
          "metadata": {},
          "execution_count": 137
        }
      ]
    },
    {
      "cell_type": "code",
      "source": [
        "plt.plot()"
      ],
      "metadata": {
        "id": "6AQ9mQDJ7Qaj"
      },
      "execution_count": null,
      "outputs": []
    },
    {
      "cell_type": "code",
      "source": [],
      "metadata": {
        "id": "aIA-kKFd7QX7"
      },
      "execution_count": null,
      "outputs": []
    },
    {
      "cell_type": "markdown",
      "source": [
        "# 6. Metrics"
      ],
      "metadata": {
        "id": "JToJ4yKLFydK"
      }
    },
    {
      "cell_type": "code",
      "source": [
        "downvote_seen_items(lfm_scores, testset_[testset_.rating > 3.5], data_description_test)"
      ],
      "metadata": {
        "id": "Pu7Gqa-YFprA"
      },
      "execution_count": null,
      "outputs": []
    },
    {
      "cell_type": "code",
      "source": [
        "testset"
      ],
      "metadata": {
        "colab": {
          "base_uri": "https://localhost:8080/",
          "height": 424
        },
        "id": "x87xbx2cFovp",
        "outputId": "0b5be09b-6461-418c-b5af-5e4a20e4676e"
      },
      "execution_count": null,
      "outputs": [
        {
          "output_type": "execute_result",
          "data": {
            "text/plain": [
              "           uid         user_id  anime_id  \\\n",
              "23639   257108     -HippySnob-      6627   \n",
              "77667   314247     -HippySnob-      7540   \n",
              "11867   255858     -HippySnob-      4791   \n",
              "92348   274301     -HippySnob-      5570   \n",
              "100054  266419     -HippySnob-      6649   \n",
              "...        ...             ...       ...   \n",
              "56455   243523  zombie_pegasus      6477   \n",
              "3151    230191  zombie_pegasus      5240   \n",
              "85188   256848  zombie_pegasus      5724   \n",
              "31228   228873  zombie_pegasus      6143   \n",
              "59988   232117  zombie_pegasus      5134   \n",
              "\n",
              "                                                     text  score  \\\n",
              "23639   Half Decays when most of us just sitting here ...     10   \n",
              "77667   Later On : \\r\\n\"Distinguishing the full analog...      5   \n",
              "11867   Considering the fact that it's way more refres...     10   \n",
              "92348   Sex & Violence with Machspeed One-Shot Review ...      9   \n",
              "100054  A bizarre world building ended a tragic and ep...      3   \n",
              "...                                                   ...    ...   \n",
              "56455   It may seem silly to judge a 30 second commerc...      5   \n",
              "3151    Keep in mind that this was a failed Youtube re...      6   \n",
              "85188   Stop motion is animation too, but this certain...      1   \n",
              "31228   With all of the praise this movie has gotten i...      7   \n",
              "59988   This is a blob show \\r\\nNot much more than bei...      5   \n",
              "\n",
              "                                                   scores  \\\n",
              "23639   {'Overall': '10', 'Story': '10', 'Animation': ...   \n",
              "77667   {'Overall': '5', 'Story': '4', 'Animation': '5...   \n",
              "11867   {'Overall': '10', 'Story': '10', 'Animation': ...   \n",
              "92348   {'Overall': '9', 'Story': '10', 'Animation': '...   \n",
              "100054  {'Overall': '3', 'Story': '1', 'Animation': '1...   \n",
              "...                                                   ...   \n",
              "56455   {'Overall': '5', 'Story': '4', 'Animation': '6...   \n",
              "3151    {'Overall': '6', 'Story': '5', 'Animation': '8...   \n",
              "85188   {'Overall': '1', 'Story': '0', 'Animation': '0...   \n",
              "31228   {'Overall': '7', 'Story': '7', 'Animation': '1...   \n",
              "59988   {'Overall': '5', 'Story': '4', 'Animation': '5...   \n",
              "\n",
              "                                                 link  \n",
              "23639   https://myanimelist.net/reviews.php?id=257108  \n",
              "77667   https://myanimelist.net/reviews.php?id=314247  \n",
              "11867   https://myanimelist.net/reviews.php?id=255858  \n",
              "92348   https://myanimelist.net/reviews.php?id=274301  \n",
              "100054  https://myanimelist.net/reviews.php?id=266419  \n",
              "...                                               ...  \n",
              "56455   https://myanimelist.net/reviews.php?id=243523  \n",
              "3151    https://myanimelist.net/reviews.php?id=230191  \n",
              "85188   https://myanimelist.net/reviews.php?id=256848  \n",
              "31228   https://myanimelist.net/reviews.php?id=228873  \n",
              "59988   https://myanimelist.net/reviews.php?id=232117  \n",
              "\n",
              "[12146 rows x 7 columns]"
            ],
            "text/html": [
              "\n",
              "  <div id=\"df-3f44e980-53c0-42ab-b2a4-449b7d323a99\" class=\"colab-df-container\">\n",
              "    <div>\n",
              "<style scoped>\n",
              "    .dataframe tbody tr th:only-of-type {\n",
              "        vertical-align: middle;\n",
              "    }\n",
              "\n",
              "    .dataframe tbody tr th {\n",
              "        vertical-align: top;\n",
              "    }\n",
              "\n",
              "    .dataframe thead th {\n",
              "        text-align: right;\n",
              "    }\n",
              "</style>\n",
              "<table border=\"1\" class=\"dataframe\">\n",
              "  <thead>\n",
              "    <tr style=\"text-align: right;\">\n",
              "      <th></th>\n",
              "      <th>uid</th>\n",
              "      <th>user_id</th>\n",
              "      <th>anime_id</th>\n",
              "      <th>text</th>\n",
              "      <th>score</th>\n",
              "      <th>scores</th>\n",
              "      <th>link</th>\n",
              "    </tr>\n",
              "  </thead>\n",
              "  <tbody>\n",
              "    <tr>\n",
              "      <th>23639</th>\n",
              "      <td>257108</td>\n",
              "      <td>-HippySnob-</td>\n",
              "      <td>6627</td>\n",
              "      <td>Half Decays when most of us just sitting here ...</td>\n",
              "      <td>10</td>\n",
              "      <td>{'Overall': '10', 'Story': '10', 'Animation': ...</td>\n",
              "      <td>https://myanimelist.net/reviews.php?id=257108</td>\n",
              "    </tr>\n",
              "    <tr>\n",
              "      <th>77667</th>\n",
              "      <td>314247</td>\n",
              "      <td>-HippySnob-</td>\n",
              "      <td>7540</td>\n",
              "      <td>Later On : \\r\\n\"Distinguishing the full analog...</td>\n",
              "      <td>5</td>\n",
              "      <td>{'Overall': '5', 'Story': '4', 'Animation': '5...</td>\n",
              "      <td>https://myanimelist.net/reviews.php?id=314247</td>\n",
              "    </tr>\n",
              "    <tr>\n",
              "      <th>11867</th>\n",
              "      <td>255858</td>\n",
              "      <td>-HippySnob-</td>\n",
              "      <td>4791</td>\n",
              "      <td>Considering the fact that it's way more refres...</td>\n",
              "      <td>10</td>\n",
              "      <td>{'Overall': '10', 'Story': '10', 'Animation': ...</td>\n",
              "      <td>https://myanimelist.net/reviews.php?id=255858</td>\n",
              "    </tr>\n",
              "    <tr>\n",
              "      <th>92348</th>\n",
              "      <td>274301</td>\n",
              "      <td>-HippySnob-</td>\n",
              "      <td>5570</td>\n",
              "      <td>Sex &amp; Violence with Machspeed One-Shot Review ...</td>\n",
              "      <td>9</td>\n",
              "      <td>{'Overall': '9', 'Story': '10', 'Animation': '...</td>\n",
              "      <td>https://myanimelist.net/reviews.php?id=274301</td>\n",
              "    </tr>\n",
              "    <tr>\n",
              "      <th>100054</th>\n",
              "      <td>266419</td>\n",
              "      <td>-HippySnob-</td>\n",
              "      <td>6649</td>\n",
              "      <td>A bizarre world building ended a tragic and ep...</td>\n",
              "      <td>3</td>\n",
              "      <td>{'Overall': '3', 'Story': '1', 'Animation': '1...</td>\n",
              "      <td>https://myanimelist.net/reviews.php?id=266419</td>\n",
              "    </tr>\n",
              "    <tr>\n",
              "      <th>...</th>\n",
              "      <td>...</td>\n",
              "      <td>...</td>\n",
              "      <td>...</td>\n",
              "      <td>...</td>\n",
              "      <td>...</td>\n",
              "      <td>...</td>\n",
              "      <td>...</td>\n",
              "    </tr>\n",
              "    <tr>\n",
              "      <th>56455</th>\n",
              "      <td>243523</td>\n",
              "      <td>zombie_pegasus</td>\n",
              "      <td>6477</td>\n",
              "      <td>It may seem silly to judge a 30 second commerc...</td>\n",
              "      <td>5</td>\n",
              "      <td>{'Overall': '5', 'Story': '4', 'Animation': '6...</td>\n",
              "      <td>https://myanimelist.net/reviews.php?id=243523</td>\n",
              "    </tr>\n",
              "    <tr>\n",
              "      <th>3151</th>\n",
              "      <td>230191</td>\n",
              "      <td>zombie_pegasus</td>\n",
              "      <td>5240</td>\n",
              "      <td>Keep in mind that this was a failed Youtube re...</td>\n",
              "      <td>6</td>\n",
              "      <td>{'Overall': '6', 'Story': '5', 'Animation': '8...</td>\n",
              "      <td>https://myanimelist.net/reviews.php?id=230191</td>\n",
              "    </tr>\n",
              "    <tr>\n",
              "      <th>85188</th>\n",
              "      <td>256848</td>\n",
              "      <td>zombie_pegasus</td>\n",
              "      <td>5724</td>\n",
              "      <td>Stop motion is animation too, but this certain...</td>\n",
              "      <td>1</td>\n",
              "      <td>{'Overall': '1', 'Story': '0', 'Animation': '0...</td>\n",
              "      <td>https://myanimelist.net/reviews.php?id=256848</td>\n",
              "    </tr>\n",
              "    <tr>\n",
              "      <th>31228</th>\n",
              "      <td>228873</td>\n",
              "      <td>zombie_pegasus</td>\n",
              "      <td>6143</td>\n",
              "      <td>With all of the praise this movie has gotten i...</td>\n",
              "      <td>7</td>\n",
              "      <td>{'Overall': '7', 'Story': '7', 'Animation': '1...</td>\n",
              "      <td>https://myanimelist.net/reviews.php?id=228873</td>\n",
              "    </tr>\n",
              "    <tr>\n",
              "      <th>59988</th>\n",
              "      <td>232117</td>\n",
              "      <td>zombie_pegasus</td>\n",
              "      <td>5134</td>\n",
              "      <td>This is a blob show \\r\\nNot much more than bei...</td>\n",
              "      <td>5</td>\n",
              "      <td>{'Overall': '5', 'Story': '4', 'Animation': '5...</td>\n",
              "      <td>https://myanimelist.net/reviews.php?id=232117</td>\n",
              "    </tr>\n",
              "  </tbody>\n",
              "</table>\n",
              "<p>12146 rows × 7 columns</p>\n",
              "</div>\n",
              "    <div class=\"colab-df-buttons\">\n",
              "\n",
              "  <div class=\"colab-df-container\">\n",
              "    <button class=\"colab-df-convert\" onclick=\"convertToInteractive('df-3f44e980-53c0-42ab-b2a4-449b7d323a99')\"\n",
              "            title=\"Convert this dataframe to an interactive table.\"\n",
              "            style=\"display:none;\">\n",
              "\n",
              "  <svg xmlns=\"http://www.w3.org/2000/svg\" height=\"24px\" viewBox=\"0 -960 960 960\">\n",
              "    <path d=\"M120-120v-720h720v720H120Zm60-500h600v-160H180v160Zm220 220h160v-160H400v160Zm0 220h160v-160H400v160ZM180-400h160v-160H180v160Zm440 0h160v-160H620v160ZM180-180h160v-160H180v160Zm440 0h160v-160H620v160Z\"/>\n",
              "  </svg>\n",
              "    </button>\n",
              "\n",
              "  <style>\n",
              "    .colab-df-container {\n",
              "      display:flex;\n",
              "      gap: 12px;\n",
              "    }\n",
              "\n",
              "    .colab-df-convert {\n",
              "      background-color: #E8F0FE;\n",
              "      border: none;\n",
              "      border-radius: 50%;\n",
              "      cursor: pointer;\n",
              "      display: none;\n",
              "      fill: #1967D2;\n",
              "      height: 32px;\n",
              "      padding: 0 0 0 0;\n",
              "      width: 32px;\n",
              "    }\n",
              "\n",
              "    .colab-df-convert:hover {\n",
              "      background-color: #E2EBFA;\n",
              "      box-shadow: 0px 1px 2px rgba(60, 64, 67, 0.3), 0px 1px 3px 1px rgba(60, 64, 67, 0.15);\n",
              "      fill: #174EA6;\n",
              "    }\n",
              "\n",
              "    .colab-df-buttons div {\n",
              "      margin-bottom: 4px;\n",
              "    }\n",
              "\n",
              "    [theme=dark] .colab-df-convert {\n",
              "      background-color: #3B4455;\n",
              "      fill: #D2E3FC;\n",
              "    }\n",
              "\n",
              "    [theme=dark] .colab-df-convert:hover {\n",
              "      background-color: #434B5C;\n",
              "      box-shadow: 0px 1px 3px 1px rgba(0, 0, 0, 0.15);\n",
              "      filter: drop-shadow(0px 1px 2px rgba(0, 0, 0, 0.3));\n",
              "      fill: #FFFFFF;\n",
              "    }\n",
              "  </style>\n",
              "\n",
              "    <script>\n",
              "      const buttonEl =\n",
              "        document.querySelector('#df-3f44e980-53c0-42ab-b2a4-449b7d323a99 button.colab-df-convert');\n",
              "      buttonEl.style.display =\n",
              "        google.colab.kernel.accessAllowed ? 'block' : 'none';\n",
              "\n",
              "      async function convertToInteractive(key) {\n",
              "        const element = document.querySelector('#df-3f44e980-53c0-42ab-b2a4-449b7d323a99');\n",
              "        const dataTable =\n",
              "          await google.colab.kernel.invokeFunction('convertToInteractive',\n",
              "                                                    [key], {});\n",
              "        if (!dataTable) return;\n",
              "\n",
              "        const docLinkHtml = 'Like what you see? Visit the ' +\n",
              "          '<a target=\"_blank\" href=https://colab.research.google.com/notebooks/data_table.ipynb>data table notebook</a>'\n",
              "          + ' to learn more about interactive tables.';\n",
              "        element.innerHTML = '';\n",
              "        dataTable['output_type'] = 'display_data';\n",
              "        await google.colab.output.renderOutput(dataTable, element);\n",
              "        const docLink = document.createElement('div');\n",
              "        docLink.innerHTML = docLinkHtml;\n",
              "        element.appendChild(docLink);\n",
              "      }\n",
              "    </script>\n",
              "  </div>\n",
              "\n",
              "\n",
              "<div id=\"df-23f4101f-1e93-4486-9270-6037f86c90e2\">\n",
              "  <button class=\"colab-df-quickchart\" onclick=\"quickchart('df-23f4101f-1e93-4486-9270-6037f86c90e2')\"\n",
              "            title=\"Suggest charts\"\n",
              "            style=\"display:none;\">\n",
              "\n",
              "<svg xmlns=\"http://www.w3.org/2000/svg\" height=\"24px\"viewBox=\"0 0 24 24\"\n",
              "     width=\"24px\">\n",
              "    <g>\n",
              "        <path d=\"M19 3H5c-1.1 0-2 .9-2 2v14c0 1.1.9 2 2 2h14c1.1 0 2-.9 2-2V5c0-1.1-.9-2-2-2zM9 17H7v-7h2v7zm4 0h-2V7h2v10zm4 0h-2v-4h2v4z\"/>\n",
              "    </g>\n",
              "</svg>\n",
              "  </button>\n",
              "\n",
              "<style>\n",
              "  .colab-df-quickchart {\n",
              "      --bg-color: #E8F0FE;\n",
              "      --fill-color: #1967D2;\n",
              "      --hover-bg-color: #E2EBFA;\n",
              "      --hover-fill-color: #174EA6;\n",
              "      --disabled-fill-color: #AAA;\n",
              "      --disabled-bg-color: #DDD;\n",
              "  }\n",
              "\n",
              "  [theme=dark] .colab-df-quickchart {\n",
              "      --bg-color: #3B4455;\n",
              "      --fill-color: #D2E3FC;\n",
              "      --hover-bg-color: #434B5C;\n",
              "      --hover-fill-color: #FFFFFF;\n",
              "      --disabled-bg-color: #3B4455;\n",
              "      --disabled-fill-color: #666;\n",
              "  }\n",
              "\n",
              "  .colab-df-quickchart {\n",
              "    background-color: var(--bg-color);\n",
              "    border: none;\n",
              "    border-radius: 50%;\n",
              "    cursor: pointer;\n",
              "    display: none;\n",
              "    fill: var(--fill-color);\n",
              "    height: 32px;\n",
              "    padding: 0;\n",
              "    width: 32px;\n",
              "  }\n",
              "\n",
              "  .colab-df-quickchart:hover {\n",
              "    background-color: var(--hover-bg-color);\n",
              "    box-shadow: 0 1px 2px rgba(60, 64, 67, 0.3), 0 1px 3px 1px rgba(60, 64, 67, 0.15);\n",
              "    fill: var(--button-hover-fill-color);\n",
              "  }\n",
              "\n",
              "  .colab-df-quickchart-complete:disabled,\n",
              "  .colab-df-quickchart-complete:disabled:hover {\n",
              "    background-color: var(--disabled-bg-color);\n",
              "    fill: var(--disabled-fill-color);\n",
              "    box-shadow: none;\n",
              "  }\n",
              "\n",
              "  .colab-df-spinner {\n",
              "    border: 2px solid var(--fill-color);\n",
              "    border-color: transparent;\n",
              "    border-bottom-color: var(--fill-color);\n",
              "    animation:\n",
              "      spin 1s steps(1) infinite;\n",
              "  }\n",
              "\n",
              "  @keyframes spin {\n",
              "    0% {\n",
              "      border-color: transparent;\n",
              "      border-bottom-color: var(--fill-color);\n",
              "      border-left-color: var(--fill-color);\n",
              "    }\n",
              "    20% {\n",
              "      border-color: transparent;\n",
              "      border-left-color: var(--fill-color);\n",
              "      border-top-color: var(--fill-color);\n",
              "    }\n",
              "    30% {\n",
              "      border-color: transparent;\n",
              "      border-left-color: var(--fill-color);\n",
              "      border-top-color: var(--fill-color);\n",
              "      border-right-color: var(--fill-color);\n",
              "    }\n",
              "    40% {\n",
              "      border-color: transparent;\n",
              "      border-right-color: var(--fill-color);\n",
              "      border-top-color: var(--fill-color);\n",
              "    }\n",
              "    60% {\n",
              "      border-color: transparent;\n",
              "      border-right-color: var(--fill-color);\n",
              "    }\n",
              "    80% {\n",
              "      border-color: transparent;\n",
              "      border-right-color: var(--fill-color);\n",
              "      border-bottom-color: var(--fill-color);\n",
              "    }\n",
              "    90% {\n",
              "      border-color: transparent;\n",
              "      border-bottom-color: var(--fill-color);\n",
              "    }\n",
              "  }\n",
              "</style>\n",
              "\n",
              "  <script>\n",
              "    async function quickchart(key) {\n",
              "      const quickchartButtonEl =\n",
              "        document.querySelector('#' + key + ' button');\n",
              "      quickchartButtonEl.disabled = true;  // To prevent multiple clicks.\n",
              "      quickchartButtonEl.classList.add('colab-df-spinner');\n",
              "      try {\n",
              "        const charts = await google.colab.kernel.invokeFunction(\n",
              "            'suggestCharts', [key], {});\n",
              "      } catch (error) {\n",
              "        console.error('Error during call to suggestCharts:', error);\n",
              "      }\n",
              "      quickchartButtonEl.classList.remove('colab-df-spinner');\n",
              "      quickchartButtonEl.classList.add('colab-df-quickchart-complete');\n",
              "    }\n",
              "    (() => {\n",
              "      let quickchartButtonEl =\n",
              "        document.querySelector('#df-23f4101f-1e93-4486-9270-6037f86c90e2 button');\n",
              "      quickchartButtonEl.style.display =\n",
              "        google.colab.kernel.accessAllowed ? 'block' : 'none';\n",
              "    })();\n",
              "  </script>\n",
              "</div>\n",
              "    </div>\n",
              "  </div>\n"
            ]
          },
          "metadata": {},
          "execution_count": 238
        }
      ]
    },
    {
      "cell_type": "code",
      "source": [
        "x = np.linspace(0, 10, 100)\n",
        "curves = [np.sin(x) + np.random.normal(0, 0.1, len(x)) for _ in range(15)]"
      ],
      "metadata": {
        "id": "qsxK1hW4Fos5"
      },
      "execution_count": null,
      "outputs": []
    },
    {
      "cell_type": "code",
      "source": [
        "plt.fill_betweenx(x, curves[0], curves[2])"
      ],
      "metadata": {
        "colab": {
          "base_uri": "https://localhost:8080/",
          "height": 175
        },
        "id": "p57JenB78hfZ",
        "outputId": "fbba3484-ff14-4305-cf9c-a4c103a1a11f"
      },
      "execution_count": null,
      "outputs": [
        {
          "output_type": "error",
          "ename": "NameError",
          "evalue": "ignored",
          "traceback": [
            "\u001b[0;31m---------------------------------------------------------------------------\u001b[0m",
            "\u001b[0;31mNameError\u001b[0m                                 Traceback (most recent call last)",
            "\u001b[0;32m<ipython-input-2-482453083cdc>\u001b[0m in \u001b[0;36m<cell line: 1>\u001b[0;34m()\u001b[0m\n\u001b[0;32m----> 1\u001b[0;31m \u001b[0mplt\u001b[0m\u001b[0;34m.\u001b[0m\u001b[0mfill_betweenx\u001b[0m\u001b[0;34m(\u001b[0m\u001b[0mx\u001b[0m\u001b[0;34m,\u001b[0m \u001b[0mcurves\u001b[0m\u001b[0;34m[\u001b[0m\u001b[0;36m0\u001b[0m\u001b[0;34m]\u001b[0m\u001b[0;34m,\u001b[0m \u001b[0mcurves\u001b[0m\u001b[0;34m[\u001b[0m\u001b[0;36m2\u001b[0m\u001b[0;34m]\u001b[0m\u001b[0;34m)\u001b[0m\u001b[0;34m\u001b[0m\u001b[0;34m\u001b[0m\u001b[0m\n\u001b[0m",
            "\u001b[0;31mNameError\u001b[0m: name 'plt' is not defined"
          ]
        }
      ]
    },
    {
      "cell_type": "code",
      "source": [
        "# Пример данных: создаем некоторые кривые для примера\n",
        "x = np.linspace(0, 10, 100)\n",
        "curves = [np.sin(x) + np.random.normal(0, 0.1, len(x)) for _ in range(15)]\n",
        "\n",
        "# Вычисление плотности для каждой кривой\n",
        "# Как пример метрики плотности, будем считать среднее евклидово расстояния до соседних кривых\n",
        "def calculate_density(curves):\n",
        "    densities = []\n",
        "    for i, curve in enumerate(curves):\n",
        "        nearest_curve_distances = []\n",
        "        for j, other_curve in enumerate(curves):\n",
        "            if i != j:\n",
        "                distance = np.mean(np.abs(curve - other_curve))\n",
        "                nearest_curve_distances.append(distance)\n",
        "        density = 1 / np.mean(nearest_curve_distances)  # Больше значение, если кривая близко к другим\n",
        "        densities.append(density)\n",
        "    return densities\n",
        "\n",
        "densities = calculate_density(curves)\n",
        "min_density, max_density = min(densities), max(densities)\n",
        "normalized_densities = [(density - min_density) / (max_density - min_density) for density in densities]\n",
        "\n",
        "# Рисуем кривые, регулируя толщину линии в зависимости от плотности\n",
        "for curve, density in zip(curves, normalized_densities):\n",
        "    plt.plot(x, curve, linewidth=1 + 4 * density)  # Определяем толщину линии базовая толщина + коэффициент плотности\n",
        "\n",
        "plt.xlabel('X-axis')\n",
        "plt.ylabel('Y-axis')\n",
        "plt.title('Красивый график с переменной толщиной линий')\n",
        "plt.show()"
      ],
      "metadata": {
        "colab": {
          "base_uri": "https://localhost:8080/",
          "height": 472
        },
        "id": "if1f9_vyF020",
        "outputId": "72cd851d-2740-4b9d-d1a2-447a6df058ca"
      },
      "execution_count": null,
      "outputs": [
        {
          "output_type": "display_data",
          "data": {
            "text/plain": [
              "<Figure size 640x480 with 1 Axes>"
            ],
            "image/png": "[encoded data removed]"
          },
          "metadata": {}
        }
      ]
    },
    {
      "cell_type": "code",
      "source": [],
      "metadata": {
        "id": "yaYmK5-ZF0yi"
      },
      "execution_count": null,
      "outputs": []
    },
    {
      "cell_type": "code",
      "source": [],
      "metadata": {
        "id": "yhBXWe9TExPD"
      },
      "execution_count": null,
      "outputs": []
    }
  ]
}